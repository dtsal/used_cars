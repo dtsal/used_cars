{
 "cells": [
  {
   "cell_type": "code",
   "execution_count": 10,
   "metadata": {},
   "outputs": [],
   "source": [
    "import numpy as np # linear algebra\n",
    "import pandas as pd # data processing, CSV file I/O (e.g. pd.read_csv)\n",
    "import sys\n",
    "from sklearn.model_selection import train_test_split\n",
    "from sklearn.model_selection import KFold\n",
    "import tqdm \n",
    "from catboost import CatBoostRegressor\n",
    "\n",
    "%matplotlib inline\n",
    "import seaborn as sns\n",
    "import matplotlib.pyplot as plt\n",
    "from sklearn.feature_selection import SelectKBest\n",
    "from sklearn.feature_selection import chi2\n",
    "from sklearn.feature_selection import RFE\n",
    "from sklearn.linear_model import LogisticRegression"
   ]
  },
  {
   "cell_type": "code",
   "execution_count": 2,
   "metadata": {},
   "outputs": [],
   "source": [
    "RANDOM_SEED = 42"
   ]
  },
  {
   "cell_type": "code",
   "execution_count": 30,
   "metadata": {},
   "outputs": [
    {
     "name": "stderr",
     "output_type": "stream",
     "text": [
      "c:\\users\\tsald\\appdata\\local\\programs\\python\\python38\\lib\\site-packages\\IPython\\core\\interactiveshell.py:3062: DtypeWarning: Columns (198) have mixed types.Specify dtype option on import or set low_memory=False.\n",
      "  has_raised = await self.run_ast_nodes(code_ast.body, cell_name,\n"
     ]
    },
    {
     "data": {
      "text/plain": "   AUX  Android Auto  Bluetooth  CarPlay  USB                VIN  \\\n0  1.0           NaN        NaN      NaN  NaN  WBA**************   \n1  NaN           NaN        NaN      NaN  NaN  XUF**************   \n2  NaN           NaN        1.0      NaN  1.0  XW8**************   \n3  1.0           NaN        NaN      NaN  1.0  KMH**************   \n4  1.0           NaN        NaN      NaN  NaN  SAJ**************   \n5  1.0           NaN        1.0      NaN  1.0  YV1**************   \n6  1.0           NaN        1.0      NaN  NaN  X4X**************   \n7  NaN           NaN        NaN      NaN  NaN  VF3**************   \n8  NaN           NaN        NaN      NaN  NaN  XUF**************   \n9  NaN           NaN        NaN      NaN  NaN  XWB**************   \n\n                availability           bodyType       brand  \\\n0  http://schema.org/InStock               купе         BMW   \n1  http://schema.org/InStock              седан   CHEVROLET   \n2  http://schema.org/InStock  внедорожник 5 дв.  VOLKSWAGEN   \n3  http://schema.org/InStock  внедорожник 5 дв.     HYUNDAI   \n4  http://schema.org/InStock              седан      JAGUAR   \n5  http://schema.org/InStock              седан       VOLVO   \n6  http://schema.org/InStock              седан         BMW   \n7  http://schema.org/InStock      хэтчбек 5 дв.     PEUGEOT   \n8  http://schema.org/InStock  внедорожник 5 дв.   CHEVROLET   \n9  http://schema.org/InStock      хэтчбек 5 дв.   CHEVROLET   \n\n                                    car_name  ...  \\\n0             BMW 6 серия  II (E63/E64) 645i  ...   \n1               Chevrolet Cruze I Рестайлинг  ...   \n2             Volkswagen Tiguan I Рестайлинг  ...   \n3                           Hyundai Tucson I  ...   \n4      Jaguar XJ LWB II (X308) Sovereign LWB  ...   \n5                               Volvo S40 II  ...   \n6  BMW 5 серия  VI (F10/F11/F07) 528i xDrive  ...   \n7                   Peugeot 107 I Рестайлинг  ...   \n8                        Chevrolet Captiva I  ...   \n9                        Chevrolet Spark III  ...   \n\n  Электрорегулировка задних сидений Электрорегулировка передних сидений  \\\n0                               NaN                                 NaN   \n1                               NaN                                 NaN   \n2                               NaN                                 NaN   \n3                               NaN                                 NaN   \n4                               NaN                                 1.0   \n5                               NaN                                 1.0   \n6                               NaN                                 1.0   \n7                               NaN                                 NaN   \n8                               NaN                                 NaN   \n9                               NaN                                 NaN   \n\n  Электрорегулировка руля Электрорегулировка сиденья водителя  \\\n0                     NaN                                 NaN   \n1                     NaN                                 NaN   \n2                     NaN                                 NaN   \n3                     NaN                                 NaN   \n4                     1.0                                 NaN   \n5                     NaN                                 NaN   \n6                     NaN                                 NaN   \n7                     NaN                                 NaN   \n8                     NaN                                 NaN   \n9                     NaN                                 NaN   \n\n  Электроскладывание зеркал Электростеклоподъёмники задние  \\\n0                       NaN                            NaN   \n1                       NaN                            NaN   \n2                       1.0                            1.0   \n3                       NaN                            1.0   \n4                       NaN                            1.0   \n5                       1.0                            1.0   \n6                       1.0                            1.0   \n7                       NaN                            NaN   \n8                       NaN                            1.0   \n9                       NaN                            NaN   \n\n   Электростеклоподъёмники передние               Юридическая чистота  \\\n0                               NaN  Ограничений и залогов не найдено   \n1                               1.0  Ограничений и залогов не найдено   \n2                               1.0  Ограничений и залогов не найдено   \n3                               1.0  Ограничений и залогов не найдено   \n4                               1.0  Ограничений и залогов не найдено   \n5                               1.0  Ограничений и залогов не найдено   \n6                               1.0  Ограничений и залогов не найдено   \n7                               1.0  Ограничений и залогов не найдено   \n8                               1.0  Ограничений и залогов не найдено   \n9                               NaN  Ограничений и залогов не найдено   \n\n   Яндекс.Авто год выпуска  \n0          NaN      2004.0  \n1          NaN      2013.0  \n2          NaN      2016.0  \n3          NaN      2008.0  \n4          NaN      1999.0  \n5          NaN      2007.0  \n6          NaN      2013.0  \n7          NaN      2009.0  \n8          NaN      2008.0  \n9          NaN      2013.0  \n\n[10 rows x 229 columns]",
      "text/html": "<div>\n<style scoped>\n    .dataframe tbody tr th:only-of-type {\n        vertical-align: middle;\n    }\n\n    .dataframe tbody tr th {\n        vertical-align: top;\n    }\n\n    .dataframe thead th {\n        text-align: right;\n    }\n</style>\n<table border=\"1\" class=\"dataframe\">\n  <thead>\n    <tr style=\"text-align: right;\">\n      <th></th>\n      <th>AUX</th>\n      <th>Android Auto</th>\n      <th>Bluetooth</th>\n      <th>CarPlay</th>\n      <th>USB</th>\n      <th>VIN</th>\n      <th>availability</th>\n      <th>bodyType</th>\n      <th>brand</th>\n      <th>car_name</th>\n      <th>...</th>\n      <th>Электрорегулировка задних сидений</th>\n      <th>Электрорегулировка передних сидений</th>\n      <th>Электрорегулировка руля</th>\n      <th>Электрорегулировка сиденья водителя</th>\n      <th>Электроскладывание зеркал</th>\n      <th>Электростеклоподъёмники задние</th>\n      <th>Электростеклоподъёмники передние</th>\n      <th>Юридическая чистота</th>\n      <th>Яндекс.Авто</th>\n      <th>год выпуска</th>\n    </tr>\n  </thead>\n  <tbody>\n    <tr>\n      <th>0</th>\n      <td>1.0</td>\n      <td>NaN</td>\n      <td>NaN</td>\n      <td>NaN</td>\n      <td>NaN</td>\n      <td>WBA**************</td>\n      <td>http://schema.org/InStock</td>\n      <td>купе</td>\n      <td>BMW</td>\n      <td>BMW 6 серия  II (E63/E64) 645i</td>\n      <td>...</td>\n      <td>NaN</td>\n      <td>NaN</td>\n      <td>NaN</td>\n      <td>NaN</td>\n      <td>NaN</td>\n      <td>NaN</td>\n      <td>NaN</td>\n      <td>Ограничений и залогов не найдено</td>\n      <td>NaN</td>\n      <td>2004.0</td>\n    </tr>\n    <tr>\n      <th>1</th>\n      <td>NaN</td>\n      <td>NaN</td>\n      <td>NaN</td>\n      <td>NaN</td>\n      <td>NaN</td>\n      <td>XUF**************</td>\n      <td>http://schema.org/InStock</td>\n      <td>седан</td>\n      <td>CHEVROLET</td>\n      <td>Chevrolet Cruze I Рестайлинг</td>\n      <td>...</td>\n      <td>NaN</td>\n      <td>NaN</td>\n      <td>NaN</td>\n      <td>NaN</td>\n      <td>NaN</td>\n      <td>NaN</td>\n      <td>1.0</td>\n      <td>Ограничений и залогов не найдено</td>\n      <td>NaN</td>\n      <td>2013.0</td>\n    </tr>\n    <tr>\n      <th>2</th>\n      <td>NaN</td>\n      <td>NaN</td>\n      <td>1.0</td>\n      <td>NaN</td>\n      <td>1.0</td>\n      <td>XW8**************</td>\n      <td>http://schema.org/InStock</td>\n      <td>внедорожник 5 дв.</td>\n      <td>VOLKSWAGEN</td>\n      <td>Volkswagen Tiguan I Рестайлинг</td>\n      <td>...</td>\n      <td>NaN</td>\n      <td>NaN</td>\n      <td>NaN</td>\n      <td>NaN</td>\n      <td>1.0</td>\n      <td>1.0</td>\n      <td>1.0</td>\n      <td>Ограничений и залогов не найдено</td>\n      <td>NaN</td>\n      <td>2016.0</td>\n    </tr>\n    <tr>\n      <th>3</th>\n      <td>1.0</td>\n      <td>NaN</td>\n      <td>NaN</td>\n      <td>NaN</td>\n      <td>1.0</td>\n      <td>KMH**************</td>\n      <td>http://schema.org/InStock</td>\n      <td>внедорожник 5 дв.</td>\n      <td>HYUNDAI</td>\n      <td>Hyundai Tucson I</td>\n      <td>...</td>\n      <td>NaN</td>\n      <td>NaN</td>\n      <td>NaN</td>\n      <td>NaN</td>\n      <td>NaN</td>\n      <td>1.0</td>\n      <td>1.0</td>\n      <td>Ограничений и залогов не найдено</td>\n      <td>NaN</td>\n      <td>2008.0</td>\n    </tr>\n    <tr>\n      <th>4</th>\n      <td>1.0</td>\n      <td>NaN</td>\n      <td>NaN</td>\n      <td>NaN</td>\n      <td>NaN</td>\n      <td>SAJ**************</td>\n      <td>http://schema.org/InStock</td>\n      <td>седан</td>\n      <td>JAGUAR</td>\n      <td>Jaguar XJ LWB II (X308) Sovereign LWB</td>\n      <td>...</td>\n      <td>NaN</td>\n      <td>1.0</td>\n      <td>1.0</td>\n      <td>NaN</td>\n      <td>NaN</td>\n      <td>1.0</td>\n      <td>1.0</td>\n      <td>Ограничений и залогов не найдено</td>\n      <td>NaN</td>\n      <td>1999.0</td>\n    </tr>\n    <tr>\n      <th>5</th>\n      <td>1.0</td>\n      <td>NaN</td>\n      <td>1.0</td>\n      <td>NaN</td>\n      <td>1.0</td>\n      <td>YV1**************</td>\n      <td>http://schema.org/InStock</td>\n      <td>седан</td>\n      <td>VOLVO</td>\n      <td>Volvo S40 II</td>\n      <td>...</td>\n      <td>NaN</td>\n      <td>1.0</td>\n      <td>NaN</td>\n      <td>NaN</td>\n      <td>1.0</td>\n      <td>1.0</td>\n      <td>1.0</td>\n      <td>Ограничений и залогов не найдено</td>\n      <td>NaN</td>\n      <td>2007.0</td>\n    </tr>\n    <tr>\n      <th>6</th>\n      <td>1.0</td>\n      <td>NaN</td>\n      <td>1.0</td>\n      <td>NaN</td>\n      <td>NaN</td>\n      <td>X4X**************</td>\n      <td>http://schema.org/InStock</td>\n      <td>седан</td>\n      <td>BMW</td>\n      <td>BMW 5 серия  VI (F10/F11/F07) 528i xDrive</td>\n      <td>...</td>\n      <td>NaN</td>\n      <td>1.0</td>\n      <td>NaN</td>\n      <td>NaN</td>\n      <td>1.0</td>\n      <td>1.0</td>\n      <td>1.0</td>\n      <td>Ограничений и залогов не найдено</td>\n      <td>NaN</td>\n      <td>2013.0</td>\n    </tr>\n    <tr>\n      <th>7</th>\n      <td>NaN</td>\n      <td>NaN</td>\n      <td>NaN</td>\n      <td>NaN</td>\n      <td>NaN</td>\n      <td>VF3**************</td>\n      <td>http://schema.org/InStock</td>\n      <td>хэтчбек 5 дв.</td>\n      <td>PEUGEOT</td>\n      <td>Peugeot 107 I Рестайлинг</td>\n      <td>...</td>\n      <td>NaN</td>\n      <td>NaN</td>\n      <td>NaN</td>\n      <td>NaN</td>\n      <td>NaN</td>\n      <td>NaN</td>\n      <td>1.0</td>\n      <td>Ограничений и залогов не найдено</td>\n      <td>NaN</td>\n      <td>2009.0</td>\n    </tr>\n    <tr>\n      <th>8</th>\n      <td>NaN</td>\n      <td>NaN</td>\n      <td>NaN</td>\n      <td>NaN</td>\n      <td>NaN</td>\n      <td>XUF**************</td>\n      <td>http://schema.org/InStock</td>\n      <td>внедорожник 5 дв.</td>\n      <td>CHEVROLET</td>\n      <td>Chevrolet Captiva I</td>\n      <td>...</td>\n      <td>NaN</td>\n      <td>NaN</td>\n      <td>NaN</td>\n      <td>NaN</td>\n      <td>NaN</td>\n      <td>1.0</td>\n      <td>1.0</td>\n      <td>Ограничений и залогов не найдено</td>\n      <td>NaN</td>\n      <td>2008.0</td>\n    </tr>\n    <tr>\n      <th>9</th>\n      <td>NaN</td>\n      <td>NaN</td>\n      <td>NaN</td>\n      <td>NaN</td>\n      <td>NaN</td>\n      <td>XWB**************</td>\n      <td>http://schema.org/InStock</td>\n      <td>хэтчбек 5 дв.</td>\n      <td>CHEVROLET</td>\n      <td>Chevrolet Spark III</td>\n      <td>...</td>\n      <td>NaN</td>\n      <td>NaN</td>\n      <td>NaN</td>\n      <td>NaN</td>\n      <td>NaN</td>\n      <td>NaN</td>\n      <td>NaN</td>\n      <td>Ограничений и залогов не найдено</td>\n      <td>NaN</td>\n      <td>2013.0</td>\n    </tr>\n  </tbody>\n</table>\n<p>10 rows × 229 columns</p>\n</div>"
     },
     "execution_count": 30,
     "metadata": {},
     "output_type": "execute_result"
    }
   ],
   "source": [
    "df2 = pd.read_csv('C:/Users/tsald/all_car_merget_12_05/all_car_merget_12_05.csv',encoding = \"utf_8\")\n",
    "df2.head(10)"
   ]
  },
  {
   "cell_type": "code",
   "execution_count": 12,
   "outputs": [
    {
     "data": {
      "text/plain": "['AUX',\n 'Android Auto',\n 'Bluetooth',\n 'CarPlay',\n 'USB',\n 'VIN',\n 'availability',\n 'bodyType',\n 'brand',\n 'car_name',\n 'color',\n 'description',\n 'engineDisplacement',\n 'enginePower',\n 'fuelType',\n 'image',\n 'images_counter',\n 'img_list',\n 'modelDate',\n 'name',\n 'numberOfDoors',\n 'price',\n 'priceCurrency',\n 'productionDate',\n 'public_date',\n 'saler_name',\n 'saler_type',\n 'top_url_body',\n 'top_url_mark',\n 'top_url_model',\n 'top_url_name',\n 'top_url_series',\n 'url',\n 'vehicleConfiguration',\n 'vehicleTransmission',\n 'views',\n 'Автоматический корректор фар',\n 'Адаптивный круиз-контроль',\n 'Активная подвеска',\n 'Активный усилитель руля',\n 'Алькантара (Материал салона)',\n 'Антиблокировочная система (ABS)',\n 'Антипробуксовочная система (ASR)',\n 'Аудиоподготовка',\n 'Аудиосистема',\n 'Аудиосистема Hi-Fi',\n 'Аудиосистема с TV',\n 'Аэрография',\n 'Беспроводная зарядка для смартфона',\n 'Блокировка замков задних дверей',\n 'Бортовой компьютер',\n 'Бронированный кузов',\n 'Велюр (Материал салона)',\n 'Вентиляция задних сидений',\n 'Вентиляция передних сидений',\n 'Владельцы',\n 'Владельцы по ПТС',\n 'Владение',\n 'Газобаллонное оборудование',\n 'Гарантия',\n 'Голосовое управление',\n 'Госномер',\n 'Данные из ПТС',\n 'Датчик давления в шинах',\n 'Датчик дождя',\n 'Датчик проникновения в салон (датчик объема)',\n 'Датчик света',\n 'Датчик усталости водителя',\n 'Двигатель',\n 'Декоративная подсветка салона',\n 'Декоративные молдинги',\n 'Декоративные накладки на педали',\n 'Диски 12',\n 'Диски 13',\n 'Диски 14',\n 'Диски 15',\n 'Диски 16',\n 'Диски 17',\n 'Диски 18',\n 'Диски 19',\n 'Диски 20',\n 'Диски 21',\n 'Диски 22',\n 'Диски 23',\n 'Диски 24',\n 'Дистанционный запуск двигателя',\n 'Дневные ходовые огни',\n 'Доводчик дверей',\n 'Докатка',\n 'Запуск двигателя с кнопки',\n 'Защита картера',\n 'Иммобилайзер',\n 'Искусственная кожа (Материал салона)',\n 'Камера 360°',\n 'Камера задняя',\n 'Камера передняя',\n 'Климат-контроль 1-зонный',\n 'Климат-контроль 2-зонный',\n 'Климат-контроль многозонный',\n 'Кожа (Материал салона)',\n 'Количество мест: 2',\n 'Количество мест: 4',\n 'Количество мест: 5',\n 'Количество мест: 6',\n 'Количество мест: 7',\n 'Количество мест: 8',\n 'Количество мест: 9',\n 'Комбинированный (Материал салона)',\n 'Кондиционер',\n 'Коробка',\n 'Крепление детского кресла (задний ряд) ISOFIX',\n 'Крепление детского кресла (передний ряд) ISOFIX',\n 'Круиз-контроль',\n 'Ксеноновые/Биксеноновые фары',\n 'Кузов',\n 'Кузов №',\n 'Лазерные фары',\n 'Ламинированные боковые стекла',\n 'Легкосплавные диски',\n 'Люк',\n 'Металлик',\n 'Мультимедиа система для задних пассажиров',\n 'Мультифункциональное рулевое колесо',\n 'Навигационная система',\n 'Накладки на пороги',\n 'Налог',\n 'Обвес кузова',\n 'Обмен',\n 'Обогрев рулевого колеса',\n 'Омыватель фар',\n 'Отделка кожей рулевого колеса',\n 'Отделка кожей рычага КПП',\n 'Отделка потолка чёрной тканью',\n 'Открытие багажника без помощи рук',\n 'Охлаждаемый перчаточный ящик',\n 'ПТС',\n 'Память передних сидений',\n 'Память сиденья водителя',\n 'Панорамная крыша / лобовое стекло',\n 'Парктроник задний',\n 'Парктроник передний',\n 'Передний центральный подлокотник',\n 'Пневмоподвеска',\n 'Подогрев задних сидений',\n 'Подогрев передних сидений',\n 'Подрулевые лепестки переключения передач',\n 'Подушка безопасности водителя',\n 'Подушка безопасности для защиты коленей водителя',\n 'Подушка безопасности пассажира',\n 'Подушки безопасности боковые',\n 'Подушки безопасности боковые задние',\n 'Подушки безопасности оконные (шторки)',\n 'Полноразмерное запасное колесо',\n 'Привод',\n 'Прикуриватель и пепельница',\n 'Пробег',\n 'Программируемый предпусковой отопитель',\n 'Проекционный дисплей',\n 'Противотуманные фары',\n 'Регулировка передних сидений по высоте',\n 'Регулировка руля по вылету',\n 'Регулировка руля по высоте',\n 'Регулировка сиденья водителя по высоте',\n 'Регулируемый педальный узел',\n 'Рейлинги на крыше',\n 'Розетка 12V',\n 'Розетка 220V',\n 'Рулевая колонка с памятью положения',\n 'Руль',\n 'Светлый салон',\n 'Светодиодные фары',\n 'Сигнализация',\n 'Сигнализация с обратной связью',\n 'Сиденья с массажем',\n 'Система «старт-стоп»',\n 'Система автоматической парковки',\n 'Система адаптивного освещения',\n 'Система выбора режима движения',\n 'Система доступа без ключа',\n 'Система контроля за полосой движения',\n 'Система контроля слепых зон',\n 'Система ночного видения',\n 'Система помощи при спуске',\n 'Система помощи при старте в гору (HSA)',\n 'Система помощи при торможении (BAS, EBD)',\n 'Система предотвращения столкновения',\n 'Система распознавания дорожных знаков',\n 'Система стабилизации (ESP)',\n 'Система стабилизации рулевого управления (VSM)',\n 'Система управления дальним светом',\n 'Складной столик на спинках передних сидений',\n 'Складывающееся заднее сиденье',\n 'Солнцезащитная шторка на заднем стекле',\n 'Солнцезащитные шторки в задних дверях',\n 'Состояние',\n 'Спортивная подвеска',\n 'Спортивные передние сиденья',\n 'Стальные диски',\n 'Статус',\n 'Таможня',\n 'Ткань (Материал салона)',\n 'Тонированные стекла',\n 'Третий задний подголовник',\n 'Третий ряд сидений',\n 'Тёмный салон',\n 'Усилитель руля',\n 'Участие в ДТП',\n 'Фаркоп',\n 'Функция складывания спинки сиденья пассажира',\n 'Цвет',\n 'Центральный замок',\n 'ЭРА-ГЛОНАСС',\n 'Электронная приборная панель',\n 'Электрообогрев боковых зеркал',\n 'Электрообогрев зоны стеклоочистителей',\n 'Электрообогрев лобового стекла',\n 'Электрообогрев форсунок стеклоомывателей',\n 'Электропривод зеркал',\n 'Электропривод крышки багажника',\n 'Электрорегулировка задних сидений',\n 'Электрорегулировка передних сидений',\n 'Электрорегулировка руля',\n 'Электрорегулировка сиденья водителя',\n 'Электроскладывание зеркал',\n 'Электростеклоподъёмники задние',\n 'Электростеклоподъёмники передние',\n 'Юридическая чистота',\n 'Яндекс.Авто',\n 'год выпуска']"
     },
     "execution_count": 12,
     "metadata": {},
     "output_type": "execute_result"
    }
   ],
   "source": [
    "df2.columns.to_list()\n"
   ],
   "metadata": {
    "collapsed": false,
    "pycharm": {
     "name": "#%%\n"
    }
   }
  },
  {
   "cell_type": "code",
   "execution_count": 41,
   "outputs": [],
   "source": [
    "df_opt = df2[df2.price < 1500000]"
   ],
   "metadata": {
    "collapsed": false,
    "pycharm": {
     "name": "#%%\n"
    }
   }
  },
  {
   "cell_type": "code",
   "execution_count": 48,
   "outputs": [
    {
     "data": {
      "text/plain": "<matplotlib.axes._subplots.AxesSubplot at 0x236d828cbe0>"
     },
     "execution_count": 48,
     "metadata": {},
     "output_type": "execute_result"
    },
    {
     "data": {
      "text/plain": "<Figure size 432x288 with 1 Axes>",
      "image/png": "[encoded data removed]"
     },
     "metadata": {
      "needs_background": "light"
     },
     "output_type": "display_data"
    }
   ],
   "source": [
    "sns.distplot(df_opt.price)"
   ],
   "metadata": {
    "collapsed": false,
    "pycharm": {
     "name": "#%%\n"
    }
   }
  },
  {
   "cell_type": "code",
   "execution_count": 34,
   "outputs": [
    {
     "data": {
      "text/plain": "(80911, 229)"
     },
     "execution_count": 34,
     "metadata": {},
     "output_type": "execute_result"
    }
   ],
   "source": [
    "df_opt.shape"
   ],
   "metadata": {
    "collapsed": false,
    "pycharm": {
     "name": "#%%\n"
    }
   }
  },
  {
   "cell_type": "code",
   "execution_count": 54,
   "outputs": [
    {
     "data": {
      "text/plain": "<matplotlib.axes._subplots.AxesSubplot at 0x2373b0c1ac0>"
     },
     "execution_count": 54,
     "metadata": {},
     "output_type": "execute_result"
    },
    {
     "data": {
      "text/plain": "<Figure size 432x288 with 2 Axes>",
      "image/png": "[encoded data removed]"
     },
     "metadata": {
      "needs_background": "light"
     },
     "output_type": "display_data"
    }
   ],
   "source": [
    "sns.heatmap(df_opt[['AUX','Android Auto','Bluetooth','CarPlay','price']].corr())\n"
   ],
   "metadata": {
    "collapsed": false,
    "pycharm": {
     "name": "#%%\n"
    }
   }
  },
  {
   "cell_type": "code",
   "execution_count": 42,
   "outputs": [
    {
     "name": "stdout",
     "output_type": "stream",
     "text": [
      "0\n",
      "1\n",
      "2\n",
      "3\n",
      "4\n",
      "5\n",
      "6\n",
      "7\n",
      "8\n",
      "9\n",
      "10\n",
      "11\n",
      "12\n",
      "13\n",
      "14\n",
      "15\n",
      "16\n",
      "17\n"
     ]
    },
    {
     "name": "stderr",
     "output_type": "stream",
     "text": [
      "c:\\users\\tsald\\appdata\\local\\programs\\python\\python38\\lib\\site-packages\\pandas\\core\\generic.py:6245: SettingWithCopyWarning: \n",
      "A value is trying to be set on a copy of a slice from a DataFrame\n",
      "\n",
      "See the caveats in the documentation: https://pandas.pydata.org/pandas-docs/stable/user_guide/indexing.html#returning-a-view-versus-a-copy\n",
      "  self._update_inplace(new_data)\n"
     ]
    }
   ],
   "source": [
    "# NaN для этого отфильтровывам признаки с объектами и оставляем только с float64 затем смотрим есть ли в них NaN\n",
    "# и заменяем их нулями\n",
    "binary_columns = []\n",
    "\n",
    "binary_columns_1 = []\n",
    "binary_columns_2 = []\n",
    "binary_columns_3 = []\n",
    "binary_columns_4 = []\n",
    "binary_columns_5 = []\n",
    "binary_columns_6 = []\n",
    "binary_columns_7 = []\n",
    "binary_columns_8 = []\n",
    "binary_columns_9 = []\n",
    "binary_columns_10 = []\n",
    "\n",
    "binary_columns = [binary_columns_1,binary_columns_2,binary_columns_3,binary_columns_4,\n",
    "                  binary_columns_5,binary_columns_6,binary_columns_7,binary_columns_8,\n",
    "                  binary_columns_9,binary_columns_10]\n",
    "i = 0\n",
    "for column in df_opt.columns:\n",
    "     if df_opt[column].dtype == 'float64':\n",
    "         if df_opt[column].value_counts().shape[0] == 1:\n",
    "              if df_opt[column][df_opt[column].isna() == True].shape[0] > 0:\n",
    "                 if i < 18:\n",
    "                    binary_columns_1.append(column)\n",
    "                    print(i)\n",
    "                 elif i>=18 and i<36:\n",
    "                    binary_columns_2.append(column)\n",
    "                 elif i>=36 and i<54:\n",
    "                    binary_columns_3.append(column)\n",
    "                 elif i>=54 and i<72:\n",
    "                    binary_columns_4.append(column)\n",
    "                 elif i>=72 and i<90:\n",
    "                    binary_columns_5.append(column)\n",
    "                 elif i>=90 and i<108:\n",
    "                    binary_columns_6.append(column)\n",
    "                 elif i>=108 and i<126:\n",
    "                    binary_columns_7.append(column)\n",
    "                 elif i>=126 and i<144:\n",
    "                    binary_columns_8.append(column)\n",
    "                 elif i>=144 and i<162:\n",
    "                    binary_columns_9.append(column)\n",
    "                 elif i>=162:\n",
    "                    binary_columns_10.append(column)\n",
    "\n",
    "                 df_opt[column].fillna(0,inplace=True)\n",
    "                 i+=1\n",
    "\n",
    "\n",
    "\n",
    "\n",
    "# sns.clustermap(df_opt[binary_columns].corr())\n",
    "# plt.tight_layout()"
   ],
   "metadata": {
    "collapsed": false,
    "pycharm": {
     "name": "#%% # Для проверки корелляции признаков необходимо пройти по всем признакам у которых есть только 1.0 значения и\n"
    }
   }
  },
  {
   "cell_type": "code",
   "execution_count": 110,
   "outputs": [],
   "source": [
    "# for bin in binary_columns:\n",
    "#     bin.append('price')\n"
   ],
   "metadata": {
    "collapsed": false,
    "pycharm": {
     "name": "#%%\n"
    }
   }
  },
  {
   "cell_type": "code",
   "execution_count": 127,
   "outputs": [
    {
     "data": {
      "text/plain": "['Электрообогрев зоны стеклоочистителей',\n 'Электрообогрев лобового стекла',\n 'Электрообогрев форсунок стеклоомывателей',\n 'Электропривод зеркал',\n 'Электропривод крышки багажника',\n 'Электрорегулировка задних сидений',\n 'Электрорегулировка передних сидений',\n 'Электрорегулировка руля',\n 'Электрорегулировка сиденья водителя',\n 'Электроскладывание зеркал',\n 'Электростеклоподъёмники задние',\n 'Электростеклоподъёмники передние',\n 'Яндекс.Авто']"
     },
     "execution_count": 127,
     "metadata": {},
     "output_type": "execute_result"
    }
   ],
   "source": [
    "binary_columns_10"
   ],
   "metadata": {
    "collapsed": false,
    "pycharm": {
     "name": "#%%\n"
    }
   }
  },
  {
   "cell_type": "code",
   "execution_count": 15,
   "outputs": [
    {
     "data": {
      "text/plain": "<Figure size 720x720 with 4 Axes>",
      "image/png": "[encoded data removed]"
     },
     "metadata": {
      "needs_background": "light"
     },
     "output_type": "display_data"
    }
   ],
   "source": [
    "sns.clustermap(df_opt[binary_columns_10].corr())\n",
    "plt.tight_layout()\n",
    "\n"
   ],
   "metadata": {
    "collapsed": false,
    "pycharm": {
     "name": "#%%\n"
    }
   }
  },
  {
   "cell_type": "code",
   "execution_count": 43,
   "outputs": [],
   "source": [
    "X1 = df_opt[binary_columns_1]\n",
    "X2 = df_opt[binary_columns_2]\n",
    "X3 = df_opt[binary_columns_3]\n",
    "X4 = df_opt[binary_columns_4]\n",
    "X5 = df_opt[binary_columns_5]\n",
    "X6 = df_opt[binary_columns_6]\n",
    "X7 = df_opt[binary_columns_7]\n",
    "X8 = df_opt[binary_columns_8]\n",
    "X9 = df_opt[binary_columns_9]\n",
    "X10 = df_opt[binary_columns_10]\n",
    "\n",
    "y = df_opt.price\n",
    "\n",
    "array_compl_col = [X1,X2,X3,X4,X5,X6,X7,X8,X9,X10]"
   ],
   "metadata": {
    "collapsed": false,
    "pycharm": {
     "name": "#%%\n"
    }
   }
  },
  {
   "cell_type": "code",
   "execution_count": 17,
   "outputs": [],
   "source": [
    "test = SelectKBest(score_func=chi2, k=4)"
   ],
   "metadata": {
    "collapsed": false,
    "pycharm": {
     "name": "#%%\n"
    }
   }
  },
  {
   "cell_type": "code",
   "execution_count": 44,
   "outputs": [],
   "source": [
    "array_max_corr =[]\n",
    "for i in array_compl_col:\n",
    "    fit = test.fit(i, y)\n",
    "    np.set_printoptions(precision=3)\n",
    "    # print(fit.scores_)\n",
    "    x = np.array(fit.scores_)\n",
    "    max_corr = np.argsort(x)[::-1][:4]\n",
    "    array_max_corr.append(max_corr)\n",
    "\n",
    "\n",
    "# features = fit.transform(X)\n",
    "# print(features[0:5,:])"
   ],
   "metadata": {
    "collapsed": false,
    "pycharm": {
     "name": "#%%\n"
    }
   }
  },
  {
   "cell_type": "code",
   "execution_count": 19,
   "outputs": [
    {
     "data": {
      "text/plain": "[array([ 2, 11,  5, 10], dtype=int64),\n array([11,  9, 16,  8], dtype=int64),\n array([10, 15, 17,  4], dtype=int64),\n array([ 7,  2, 17,  5], dtype=int64),\n array([ 9,  1, 14, 13], dtype=int64),\n array([17,  6, 15,  5], dtype=int64),\n array([ 6,  4, 11,  5], dtype=int64),\n array([14, 10,  5,  1], dtype=int64),\n array([17,  8, 10,  0], dtype=int64),\n array([9, 6, 4, 3], dtype=int64)]"
     },
     "execution_count": 19,
     "metadata": {},
     "output_type": "execute_result"
    }
   ],
   "source": [
    "array_max_corr"
   ],
   "metadata": {
    "collapsed": false,
    "pycharm": {
     "name": "#%%\n"
    }
   }
  },
  {
   "cell_type": "code",
   "execution_count": 45,
   "outputs": [],
   "source": [
    "#df_max_corr = pd.DataFrame()\n",
    "k = 0\n",
    "for j in array_max_corr:\n",
    "# #     print(j)\n",
    "       array_compl_col[k] = array_compl_col[k].iloc[:,j]\n",
    "       k += 1\n"
   ],
   "metadata": {
    "collapsed": false,
    "pycharm": {
     "name": "#%%\n"
    }
   }
  },
  {
   "cell_type": "code",
   "execution_count": 48,
   "outputs": [
    {
     "data": {
      "text/plain": "[       Bluetooth  Антипробуксовочная система (ASR)  \\\n 0            0.0                               0.0   \n 1            0.0                               0.0   \n 2            1.0                               0.0   \n 3            0.0                               0.0   \n 4            0.0                               0.0   \n ...          ...                               ...   \n 97775        0.0                               0.0   \n 97776        0.0                               0.0   \n 97777        0.0                               0.0   \n 97778        0.0                               0.0   \n 97779        0.0                               0.0   \n \n        Автоматический корректор фар  Антиблокировочная система (ABS)  \n 0                               1.0                              0.0  \n 1                               0.0                              1.0  \n 2                               0.0                              1.0  \n 3                               0.0                              1.0  \n 4                               0.0                              1.0  \n ...                             ...                              ...  \n 97775                           0.0                              0.0  \n 97776                           0.0                              1.0  \n 97777                           0.0                              0.0  \n 97778                           0.0                              0.0  \n 97779                           0.0                              0.0  \n \n [80911 rows x 4 columns],\n        Датчик света  Датчик дождя  Диски 12  Датчик давления в шинах\n 0               1.0           1.0       0.0                      0.0\n 1               0.0           0.0       0.0                      0.0\n 2               1.0           1.0       0.0                      1.0\n 3               0.0           0.0       0.0                      0.0\n 4               0.0           1.0       0.0                      0.0\n ...             ...           ...       ...                      ...\n 97775           0.0           0.0       0.0                      0.0\n 97776           0.0           0.0       0.0                      0.0\n 97777           0.0           0.0       0.0                      0.0\n 97778           0.0           0.0       0.0                      0.0\n 97779           0.0           0.0       0.0                      0.0\n \n [80911 rows x 4 columns],\n        Диски 24  Запуск двигателя с кнопки  Иммобилайзер  Диски 18\n 0           0.0                        0.0           0.0       0.0\n 1           0.0                        0.0           1.0       0.0\n 2           0.0                        0.0           1.0       0.0\n 3           0.0                        0.0           1.0       0.0\n 4           0.0                        0.0           0.0       0.0\n ...         ...                        ...           ...       ...\n 97775       0.0                        0.0           0.0       0.0\n 97776       0.0                        0.0           1.0       0.0\n 97777       0.0                        0.0           1.0       0.0\n 97778       0.0                        0.0           0.0       0.0\n 97779       0.0                        0.0           0.0       0.0\n \n [80911 rows x 4 columns],\n        Кожа (Материал салона)  Камера задняя  \\\n 0                         0.0            0.0   \n 1                         0.0            0.0   \n 2                         0.0            0.0   \n 3                         0.0            0.0   \n 4                         1.0            0.0   \n ...                       ...            ...   \n 97775                     0.0            0.0   \n 97776                     1.0            0.0   \n 97777                     0.0            0.0   \n 97778                     0.0            0.0   \n 97779                     0.0            0.0   \n \n        Крепление детского кресла (задний ряд) ISOFIX  Климат-контроль 2-зонный  \n 0                                                0.0                       0.0  \n 1                                                1.0                       0.0  \n 2                                                1.0                       1.0  \n 3                                                1.0                       0.0  \n 4                                                0.0                       0.0  \n ...                                              ...                       ...  \n 97775                                            0.0                       0.0  \n 97776                                            0.0                       0.0  \n 97777                                            0.0                       0.0  \n 97778                                            0.0                       0.0  \n 97779                                            0.0                       0.0  \n \n [80911 rows x 4 columns],\n        Мультифункциональное рулевое колесо  Круиз-контроль  Омыватель фар  \\\n 0                                      0.0             0.0            0.0   \n 1                                      0.0             0.0            0.0   \n 2                                      1.0             0.0            1.0   \n 3                                      0.0             0.0            0.0   \n 4                                      0.0             1.0            0.0   \n ...                                    ...             ...            ...   \n 97775                                  0.0             0.0            0.0   \n 97776                                  0.0             0.0            0.0   \n 97777                                  0.0             0.0            0.0   \n 97778                                  0.0             0.0            0.0   \n 97779                                  0.0             0.0            0.0   \n \n        Обогрев рулевого колеса  \n 0                          0.0  \n 1                          0.0  \n 2                          0.0  \n 3                          1.0  \n 4                          0.0  \n ...                        ...  \n 97775                      0.0  \n 97776                      0.0  \n 97777                      0.0  \n 97778                      0.0  \n 97779                      0.0  \n \n [80911 rows x 4 columns],\n        Подушки безопасности оконные (шторки)  Парктроник передний  \\\n 0                                        0.0                  0.0   \n 1                                        0.0                  0.0   \n 2                                        1.0                  0.0   \n 3                                        0.0                  0.0   \n 4                                        0.0                  0.0   \n ...                                      ...                  ...   \n 97775                                    0.0                  0.0   \n 97776                                    0.0                  0.0   \n 97777                                    0.0                  0.0   \n 97778                                    0.0                  0.0   \n 97779                                    0.0                  0.0   \n \n        Подушки безопасности боковые  Парктроник задний  \n 0                               0.0                0.0  \n 1                               1.0                0.0  \n 2                               1.0                1.0  \n 3                               1.0                1.0  \n 4                               0.0                0.0  \n ...                             ...                ...  \n 97775                           0.0                0.0  \n 97776                           0.0                0.0  \n 97777                           0.0                0.0  \n 97778                           0.0                0.0  \n 97779                           0.0                0.0  \n \n [80911 rows x 4 columns],\n        Регулировка руля по вылету  Противотуманные фары  Розетка 12V  \\\n 0                             0.0                   0.0          0.0   \n 1                             0.0                   0.0          0.0   \n 2                             1.0                   1.0          1.0   \n 3                             1.0                   1.0          1.0   \n 4                             0.0                   1.0          0.0   \n ...                           ...                   ...          ...   \n 97775                         0.0                   0.0          0.0   \n 97776                         0.0                   1.0          0.0   \n 97777                         0.0                   0.0          1.0   \n 97778                         0.0                   0.0          0.0   \n 97779                         0.0                   0.0          0.0   \n \n        Регулировка передних сидений по высоте  \n 0                                         0.0  \n 1                                         0.0  \n 2                                         0.0  \n 3                                         1.0  \n 4                                         1.0  \n ...                                       ...  \n 97775                                     0.0  \n 97776                                     0.0  \n 97777                                     0.0  \n 97778                                     0.0  \n 97779                                     0.0  \n \n [80911 rows x 4 columns],\n        Система стабилизации (ESP)  Система помощи при старте в гору (HSA)  \\\n 0                             0.0                                     0.0   \n 1                             0.0                                     0.0   \n 2                             1.0                                     1.0   \n 3                             0.0                                     0.0   \n 4                             0.0                                     0.0   \n ...                           ...                                     ...   \n 97775                         0.0                                     0.0   \n 97776                         0.0                                     0.0   \n 97777                         0.0                                     0.0   \n 97778                         0.0                                     0.0   \n 97779                         0.0                                     0.0   \n \n        Система доступа без ключа  Система «старт-стоп»  \n 0                            0.0                   0.0  \n 1                            0.0                   0.0  \n 2                            0.0                   1.0  \n 3                            0.0                   0.0  \n 4                            0.0                   0.0  \n ...                          ...                   ...  \n 97775                        0.0                   0.0  \n 97776                        0.0                   0.0  \n 97777                        0.0                   0.0  \n 97778                        0.0                   0.0  \n 97779                        0.0                   0.0  \n \n [80911 rows x 4 columns],\n        Электрообогрев боковых зеркал  Третий задний подголовник  Тёмный салон  \\\n 0                                1.0                        0.0           0.0   \n 1                                1.0                        1.0           0.0   \n 2                                1.0                        1.0           1.0   \n 3                                0.0                        0.0           1.0   \n 4                                1.0                        1.0           0.0   \n ...                              ...                        ...           ...   \n 97775                            0.0                        0.0           0.0   \n 97776                            1.0                        0.0           0.0   \n 97777                            0.0                        0.0           0.0   \n 97778                            0.0                        0.0           0.0   \n 97779                            0.0                        0.0           0.0   \n \n        Складывающееся заднее сиденье  \n 0                                0.0  \n 1                                1.0  \n 2                                1.0  \n 3                                0.0  \n 4                                0.0  \n ...                              ...  \n 97775                            0.0  \n 97776                            0.0  \n 97777                            0.0  \n 97778                            0.0  \n 97779                            0.0  \n \n [80911 rows x 4 columns],\n        Электроскладывание зеркал  Электрорегулировка передних сидений  \\\n 0                            0.0                                  0.0   \n 1                            0.0                                  0.0   \n 2                            1.0                                  0.0   \n 3                            0.0                                  0.0   \n 4                            0.0                                  1.0   \n ...                          ...                                  ...   \n 97775                        0.0                                  0.0   \n 97776                        1.0                                  0.0   \n 97777                        0.0                                  0.0   \n 97778                        0.0                                  0.0   \n 97779                        0.0                                  0.0   \n \n        Электропривод крышки багажника  Электропривод зеркал  \n 0                                 0.0                   0.0  \n 1                                 0.0                   1.0  \n 2                                 0.0                   1.0  \n 3                                 0.0                   1.0  \n 4                                 0.0                   0.0  \n ...                               ...                   ...  \n 97775                             0.0                   0.0  \n 97776                             0.0                   1.0  \n 97777                             0.0                   0.0  \n 97778                             0.0                   0.0  \n 97779                             0.0                   0.0  \n \n [80911 rows x 4 columns]]"
     },
     "execution_count": 48,
     "metadata": {},
     "output_type": "execute_result"
    }
   ],
   "source": [
    "array_compl_col\n"
   ],
   "metadata": {
    "collapsed": false,
    "pycharm": {
     "name": "#%%\n"
    }
   }
  },
  {
   "cell_type": "code",
   "execution_count": 52,
   "outputs": [
    {
     "data": {
      "text/plain": "       Электроскладывание зеркал  Электрорегулировка передних сидений  \\\n0                            0.0                                  0.0   \n1                            0.0                                  0.0   \n2                            1.0                                  0.0   \n3                            0.0                                  0.0   \n4                            0.0                                  1.0   \n...                          ...                                  ...   \n97775                        0.0                                  0.0   \n97776                        1.0                                  0.0   \n97777                        0.0                                  0.0   \n97778                        0.0                                  0.0   \n97779                        0.0                                  0.0   \n\n       Электропривод крышки багажника  Электропривод зеркал  \n0                                 0.0                   0.0  \n1                                 0.0                   1.0  \n2                                 0.0                   1.0  \n3                                 0.0                   1.0  \n4                                 0.0                   0.0  \n...                               ...                   ...  \n97775                             0.0                   0.0  \n97776                             0.0                   1.0  \n97777                             0.0                   0.0  \n97778                             0.0                   0.0  \n97779                             0.0                   0.0  \n\n[80911 rows x 4 columns]",
      "text/html": "<div>\n<style scoped>\n    .dataframe tbody tr th:only-of-type {\n        vertical-align: middle;\n    }\n\n    .dataframe tbody tr th {\n        vertical-align: top;\n    }\n\n    .dataframe thead th {\n        text-align: right;\n    }\n</style>\n<table border=\"1\" class=\"dataframe\">\n  <thead>\n    <tr style=\"text-align: right;\">\n      <th></th>\n      <th>Электроскладывание зеркал</th>\n      <th>Электрорегулировка передних сидений</th>\n      <th>Электропривод крышки багажника</th>\n      <th>Электропривод зеркал</th>\n    </tr>\n  </thead>\n  <tbody>\n    <tr>\n      <th>0</th>\n      <td>0.0</td>\n      <td>0.0</td>\n      <td>0.0</td>\n      <td>0.0</td>\n    </tr>\n    <tr>\n      <th>1</th>\n      <td>0.0</td>\n      <td>0.0</td>\n      <td>0.0</td>\n      <td>1.0</td>\n    </tr>\n    <tr>\n      <th>2</th>\n      <td>1.0</td>\n      <td>0.0</td>\n      <td>0.0</td>\n      <td>1.0</td>\n    </tr>\n    <tr>\n      <th>3</th>\n      <td>0.0</td>\n      <td>0.0</td>\n      <td>0.0</td>\n      <td>1.0</td>\n    </tr>\n    <tr>\n      <th>4</th>\n      <td>0.0</td>\n      <td>1.0</td>\n      <td>0.0</td>\n      <td>0.0</td>\n    </tr>\n    <tr>\n      <th>...</th>\n      <td>...</td>\n      <td>...</td>\n      <td>...</td>\n      <td>...</td>\n    </tr>\n    <tr>\n      <th>97775</th>\n      <td>0.0</td>\n      <td>0.0</td>\n      <td>0.0</td>\n      <td>0.0</td>\n    </tr>\n    <tr>\n      <th>97776</th>\n      <td>1.0</td>\n      <td>0.0</td>\n      <td>0.0</td>\n      <td>1.0</td>\n    </tr>\n    <tr>\n      <th>97777</th>\n      <td>0.0</td>\n      <td>0.0</td>\n      <td>0.0</td>\n      <td>0.0</td>\n    </tr>\n    <tr>\n      <th>97778</th>\n      <td>0.0</td>\n      <td>0.0</td>\n      <td>0.0</td>\n      <td>0.0</td>\n    </tr>\n    <tr>\n      <th>97779</th>\n      <td>0.0</td>\n      <td>0.0</td>\n      <td>0.0</td>\n      <td>0.0</td>\n    </tr>\n  </tbody>\n</table>\n<p>80911 rows × 4 columns</p>\n</div>"
     },
     "execution_count": 52,
     "metadata": {},
     "output_type": "execute_result"
    }
   ],
   "source": [
    "array_compl_col[9]"
   ],
   "metadata": {
    "collapsed": false,
    "pycharm": {
     "name": "#%%\n"
    }
   }
  },
  {
   "cell_type": "code",
   "execution_count": 147,
   "outputs": [],
   "source": [
    "df2['power'] = df2.apply(lambda z : z['name'][(z['name'].find('(')+1):(z['name'].find('л.с.')-1)],axis=1)"
   ],
   "metadata": {
    "collapsed": false,
    "pycharm": {
     "name": "#%%\n"
    }
   }
  },
  {
   "cell_type": "code",
   "execution_count": 149,
   "outputs": [],
   "source": [
    "\n",
    "\n",
    "# features = fit.transform(X)\n",
    "# print(features[0:5,:])"
   ],
   "metadata": {
    "collapsed": false,
    "pycharm": {
     "name": "#%%\n"
    }
   }
  },
  {
   "cell_type": "code",
   "execution_count": 168,
   "outputs": [
    {
     "data": {
      "text/plain": "[array([ 2, 11,  5, 10], dtype=int64),\n array([11,  9, 16,  8], dtype=int64),\n array([10, 15, 17,  4], dtype=int64),\n array([ 7,  2, 17,  5], dtype=int64),\n array([ 9,  1, 14, 13], dtype=int64),\n array([17,  6, 15,  5], dtype=int64),\n array([ 6,  4, 11,  5], dtype=int64),\n array([14, 10,  5,  1], dtype=int64),\n array([17,  8, 10,  0], dtype=int64),\n array([9, 6, 4, 3], dtype=int64)]"
     },
     "execution_count": 168,
     "metadata": {},
     "output_type": "execute_result"
    }
   ],
   "source": [],
   "metadata": {
    "collapsed": false,
    "pycharm": {
     "name": "#%%\n"
    }
   }
  },
  {
   "cell_type": "code",
   "execution_count": 169,
   "outputs": [
    {
     "name": "stdout",
     "output_type": "stream",
     "text": [
      "[ 2 11  5 10]\n",
      "[11  9 16  8]\n",
      "[10 15 17  4]\n",
      "[ 7  2 17  5]\n",
      "[ 9  1 14 13]\n",
      "[17  6 15  5]\n",
      "[ 6  4 11  5]\n",
      "[14 10  5  1]\n",
      "[17  8 10  0]\n",
      "[9 6 4 3]\n"
     ]
    }
   ],
   "source": [],
   "metadata": {
    "collapsed": false,
    "pycharm": {
     "name": "#%%\n"
    }
   }
  },
  {
   "cell_type": "code",
   "execution_count": 167,
   "outputs": [
    {
     "data": {
      "text/plain": "        dt\n0      0.0\n1      0.0\n2      0.0\n3      0.0\n4      0.0\n...    ...\n97775  0.0\n97776  0.0\n97777  1.0\n97778  0.0\n97779  0.0\n\n[80911 rows x 1 columns]",
      "text/html": "<div>\n<style scoped>\n    .dataframe tbody tr th:only-of-type {\n        vertical-align: middle;\n    }\n\n    .dataframe tbody tr th {\n        vertical-align: top;\n    }\n\n    .dataframe thead th {\n        text-align: right;\n    }\n</style>\n<table border=\"1\" class=\"dataframe\">\n  <thead>\n    <tr style=\"text-align: right;\">\n      <th></th>\n      <th>dt</th>\n    </tr>\n  </thead>\n  <tbody>\n    <tr>\n      <th>0</th>\n      <td>0.0</td>\n    </tr>\n    <tr>\n      <th>1</th>\n      <td>0.0</td>\n    </tr>\n    <tr>\n      <th>2</th>\n      <td>0.0</td>\n    </tr>\n    <tr>\n      <th>3</th>\n      <td>0.0</td>\n    </tr>\n    <tr>\n      <th>4</th>\n      <td>0.0</td>\n    </tr>\n    <tr>\n      <th>...</th>\n      <td>...</td>\n    </tr>\n    <tr>\n      <th>97775</th>\n      <td>0.0</td>\n    </tr>\n    <tr>\n      <th>97776</th>\n      <td>0.0</td>\n    </tr>\n    <tr>\n      <th>97777</th>\n      <td>1.0</td>\n    </tr>\n    <tr>\n      <th>97778</th>\n      <td>0.0</td>\n    </tr>\n    <tr>\n      <th>97779</th>\n      <td>0.0</td>\n    </tr>\n  </tbody>\n</table>\n<p>80911 rows × 1 columns</p>\n</div>"
     },
     "execution_count": 167,
     "metadata": {},
     "output_type": "execute_result"
    }
   ],
   "source": [],
   "metadata": {
    "collapsed": false,
    "pycharm": {
     "name": "#%%\n"
    }
   }
  },
  {
   "cell_type": "code",
   "execution_count": 140,
   "outputs": [
    {
     "name": "stderr",
     "output_type": "stream",
     "text": [
      "c:\\users\\tsald\\appdata\\local\\programs\\python\\python38\\lib\\site-packages\\sklearn\\utils\\validation.py:68: FutureWarning: Pass n_features_to_select=3 as keyword args. From version 0.25 passing these as positional arguments will result in an error\n",
      "  warnings.warn(\"Pass {} as keyword args. From version 0.25 \"\n",
      "c:\\users\\tsald\\appdata\\local\\programs\\python\\python38\\lib\\site-packages\\sklearn\\linear_model\\_logistic.py:760: ConvergenceWarning: lbfgs failed to converge (status=1):\n",
      "STOP: TOTAL NO. of ITERATIONS REACHED LIMIT.\n",
      "\n",
      "Increase the number of iterations (max_iter) or scale the data as shown in:\n",
      "    https://scikit-learn.org/stable/modules/preprocessing.html\n",
      "Please also refer to the documentation for alternative solver options:\n",
      "    https://scikit-learn.org/stable/modules/linear_model.html#logistic-regression\n",
      "  n_iter_i = _check_optimize_result(\n"
     ]
    },
    {
     "ename": "KeyboardInterrupt",
     "evalue": "",
     "output_type": "error",
     "traceback": [
      "\u001B[1;31m---------------------------------------------------------------------------\u001B[0m",
      "\u001B[1;31mKeyboardInterrupt\u001B[0m                         Traceback (most recent call last)",
      "\u001B[1;32m<ipython-input-140-1fca6f0df131>\u001B[0m in \u001B[0;36m<module>\u001B[1;34m\u001B[0m\n\u001B[0;32m      3\u001B[0m \u001B[0mrfe\u001B[0m \u001B[1;33m=\u001B[0m \u001B[0mRFE\u001B[0m\u001B[1;33m(\u001B[0m\u001B[0mmodel\u001B[0m\u001B[1;33m,\u001B[0m \u001B[1;36m3\u001B[0m\u001B[1;33m)\u001B[0m\u001B[1;33m\u001B[0m\u001B[1;33m\u001B[0m\u001B[0m\n\u001B[0;32m      4\u001B[0m \u001B[1;33m\u001B[0m\u001B[0m\n\u001B[1;32m----> 5\u001B[1;33m \u001B[0mfit_rfe\u001B[0m \u001B[1;33m=\u001B[0m \u001B[0mrfe\u001B[0m\u001B[1;33m.\u001B[0m\u001B[0mfit\u001B[0m\u001B[1;33m(\u001B[0m\u001B[0mX\u001B[0m\u001B[1;33m,\u001B[0m \u001B[0my\u001B[0m\u001B[1;33m)\u001B[0m\u001B[1;33m\u001B[0m\u001B[1;33m\u001B[0m\u001B[0m\n\u001B[0m\u001B[0;32m      6\u001B[0m \u001B[1;33m\u001B[0m\u001B[0m\n\u001B[0;32m      7\u001B[0m \u001B[0mprint\u001B[0m\u001B[1;33m(\u001B[0m\u001B[1;34m\"Num Features: %d\"\u001B[0m\u001B[1;33m)\u001B[0m \u001B[1;33m%\u001B[0m \u001B[0mfit_rfe\u001B[0m\u001B[1;33m.\u001B[0m\u001B[0mn_features_\u001B[0m\u001B[1;33m\u001B[0m\u001B[1;33m\u001B[0m\u001B[0m\n",
      "\u001B[1;32mc:\\users\\tsald\\appdata\\local\\programs\\python\\python38\\lib\\site-packages\\sklearn\\feature_selection\\_rfe.py\u001B[0m in \u001B[0;36mfit\u001B[1;34m(self, X, y)\u001B[0m\n\u001B[0;32m    149\u001B[0m             \u001B[0mThe\u001B[0m \u001B[0mtarget\u001B[0m \u001B[0mvalues\u001B[0m\u001B[1;33m.\u001B[0m\u001B[1;33m\u001B[0m\u001B[1;33m\u001B[0m\u001B[0m\n\u001B[0;32m    150\u001B[0m         \"\"\"\n\u001B[1;32m--> 151\u001B[1;33m         \u001B[1;32mreturn\u001B[0m \u001B[0mself\u001B[0m\u001B[1;33m.\u001B[0m\u001B[0m_fit\u001B[0m\u001B[1;33m(\u001B[0m\u001B[0mX\u001B[0m\u001B[1;33m,\u001B[0m \u001B[0my\u001B[0m\u001B[1;33m)\u001B[0m\u001B[1;33m\u001B[0m\u001B[1;33m\u001B[0m\u001B[0m\n\u001B[0m\u001B[0;32m    152\u001B[0m \u001B[1;33m\u001B[0m\u001B[0m\n\u001B[0;32m    153\u001B[0m     \u001B[1;32mdef\u001B[0m \u001B[0m_fit\u001B[0m\u001B[1;33m(\u001B[0m\u001B[0mself\u001B[0m\u001B[1;33m,\u001B[0m \u001B[0mX\u001B[0m\u001B[1;33m,\u001B[0m \u001B[0my\u001B[0m\u001B[1;33m,\u001B[0m \u001B[0mstep_score\u001B[0m\u001B[1;33m=\u001B[0m\u001B[1;32mNone\u001B[0m\u001B[1;33m)\u001B[0m\u001B[1;33m:\u001B[0m\u001B[1;33m\u001B[0m\u001B[1;33m\u001B[0m\u001B[0m\n",
      "\u001B[1;32mc:\\users\\tsald\\appdata\\local\\programs\\python\\python38\\lib\\site-packages\\sklearn\\feature_selection\\_rfe.py\u001B[0m in \u001B[0;36m_fit\u001B[1;34m(self, X, y, step_score)\u001B[0m\n\u001B[0;32m    194\u001B[0m                 \u001B[0mprint\u001B[0m\u001B[1;33m(\u001B[0m\u001B[1;34m\"Fitting estimator with %d features.\"\u001B[0m \u001B[1;33m%\u001B[0m \u001B[0mnp\u001B[0m\u001B[1;33m.\u001B[0m\u001B[0msum\u001B[0m\u001B[1;33m(\u001B[0m\u001B[0msupport_\u001B[0m\u001B[1;33m)\u001B[0m\u001B[1;33m)\u001B[0m\u001B[1;33m\u001B[0m\u001B[1;33m\u001B[0m\u001B[0m\n\u001B[0;32m    195\u001B[0m \u001B[1;33m\u001B[0m\u001B[0m\n\u001B[1;32m--> 196\u001B[1;33m             \u001B[0mestimator\u001B[0m\u001B[1;33m.\u001B[0m\u001B[0mfit\u001B[0m\u001B[1;33m(\u001B[0m\u001B[0mX\u001B[0m\u001B[1;33m[\u001B[0m\u001B[1;33m:\u001B[0m\u001B[1;33m,\u001B[0m \u001B[0mfeatures\u001B[0m\u001B[1;33m]\u001B[0m\u001B[1;33m,\u001B[0m \u001B[0my\u001B[0m\u001B[1;33m)\u001B[0m\u001B[1;33m\u001B[0m\u001B[1;33m\u001B[0m\u001B[0m\n\u001B[0m\u001B[0;32m    197\u001B[0m \u001B[1;33m\u001B[0m\u001B[0m\n\u001B[0;32m    198\u001B[0m             \u001B[1;31m# Get coefs\u001B[0m\u001B[1;33m\u001B[0m\u001B[1;33m\u001B[0m\u001B[1;33m\u001B[0m\u001B[0m\n",
      "\u001B[1;32mc:\\users\\tsald\\appdata\\local\\programs\\python\\python38\\lib\\site-packages\\sklearn\\linear_model\\_logistic.py\u001B[0m in \u001B[0;36mfit\u001B[1;34m(self, X, y, sample_weight)\u001B[0m\n\u001B[0;32m   1403\u001B[0m         \u001B[1;32melse\u001B[0m\u001B[1;33m:\u001B[0m\u001B[1;33m\u001B[0m\u001B[1;33m\u001B[0m\u001B[0m\n\u001B[0;32m   1404\u001B[0m             \u001B[0mprefer\u001B[0m \u001B[1;33m=\u001B[0m \u001B[1;34m'processes'\u001B[0m\u001B[1;33m\u001B[0m\u001B[1;33m\u001B[0m\u001B[0m\n\u001B[1;32m-> 1405\u001B[1;33m         fold_coefs_ = Parallel(n_jobs=self.n_jobs, verbose=self.verbose,\n\u001B[0m\u001B[0;32m   1406\u001B[0m                                \u001B[1;33m**\u001B[0m\u001B[0m_joblib_parallel_args\u001B[0m\u001B[1;33m(\u001B[0m\u001B[0mprefer\u001B[0m\u001B[1;33m=\u001B[0m\u001B[0mprefer\u001B[0m\u001B[1;33m)\u001B[0m\u001B[1;33m)\u001B[0m\u001B[1;33m(\u001B[0m\u001B[1;33m\u001B[0m\u001B[1;33m\u001B[0m\u001B[0m\n\u001B[0;32m   1407\u001B[0m             path_func(X, y, pos_class=class_, Cs=[C_],\n",
      "\u001B[1;32mc:\\users\\tsald\\appdata\\local\\programs\\python\\python38\\lib\\site-packages\\joblib\\parallel.py\u001B[0m in \u001B[0;36m__call__\u001B[1;34m(self, iterable)\u001B[0m\n\u001B[0;32m   1027\u001B[0m             \u001B[1;31m# remaining jobs.\u001B[0m\u001B[1;33m\u001B[0m\u001B[1;33m\u001B[0m\u001B[1;33m\u001B[0m\u001B[0m\n\u001B[0;32m   1028\u001B[0m             \u001B[0mself\u001B[0m\u001B[1;33m.\u001B[0m\u001B[0m_iterating\u001B[0m \u001B[1;33m=\u001B[0m \u001B[1;32mFalse\u001B[0m\u001B[1;33m\u001B[0m\u001B[1;33m\u001B[0m\u001B[0m\n\u001B[1;32m-> 1029\u001B[1;33m             \u001B[1;32mif\u001B[0m \u001B[0mself\u001B[0m\u001B[1;33m.\u001B[0m\u001B[0mdispatch_one_batch\u001B[0m\u001B[1;33m(\u001B[0m\u001B[0miterator\u001B[0m\u001B[1;33m)\u001B[0m\u001B[1;33m:\u001B[0m\u001B[1;33m\u001B[0m\u001B[1;33m\u001B[0m\u001B[0m\n\u001B[0m\u001B[0;32m   1030\u001B[0m                 \u001B[0mself\u001B[0m\u001B[1;33m.\u001B[0m\u001B[0m_iterating\u001B[0m \u001B[1;33m=\u001B[0m \u001B[0mself\u001B[0m\u001B[1;33m.\u001B[0m\u001B[0m_original_iterator\u001B[0m \u001B[1;32mis\u001B[0m \u001B[1;32mnot\u001B[0m \u001B[1;32mNone\u001B[0m\u001B[1;33m\u001B[0m\u001B[1;33m\u001B[0m\u001B[0m\n\u001B[0;32m   1031\u001B[0m \u001B[1;33m\u001B[0m\u001B[0m\n",
      "\u001B[1;32mc:\\users\\tsald\\appdata\\local\\programs\\python\\python38\\lib\\site-packages\\joblib\\parallel.py\u001B[0m in \u001B[0;36mdispatch_one_batch\u001B[1;34m(self, iterator)\u001B[0m\n\u001B[0;32m    845\u001B[0m                 \u001B[1;32mreturn\u001B[0m \u001B[1;32mFalse\u001B[0m\u001B[1;33m\u001B[0m\u001B[1;33m\u001B[0m\u001B[0m\n\u001B[0;32m    846\u001B[0m             \u001B[1;32melse\u001B[0m\u001B[1;33m:\u001B[0m\u001B[1;33m\u001B[0m\u001B[1;33m\u001B[0m\u001B[0m\n\u001B[1;32m--> 847\u001B[1;33m                 \u001B[0mself\u001B[0m\u001B[1;33m.\u001B[0m\u001B[0m_dispatch\u001B[0m\u001B[1;33m(\u001B[0m\u001B[0mtasks\u001B[0m\u001B[1;33m)\u001B[0m\u001B[1;33m\u001B[0m\u001B[1;33m\u001B[0m\u001B[0m\n\u001B[0m\u001B[0;32m    848\u001B[0m                 \u001B[1;32mreturn\u001B[0m \u001B[1;32mTrue\u001B[0m\u001B[1;33m\u001B[0m\u001B[1;33m\u001B[0m\u001B[0m\n\u001B[0;32m    849\u001B[0m \u001B[1;33m\u001B[0m\u001B[0m\n",
      "\u001B[1;32mc:\\users\\tsald\\appdata\\local\\programs\\python\\python38\\lib\\site-packages\\joblib\\parallel.py\u001B[0m in \u001B[0;36m_dispatch\u001B[1;34m(self, batch)\u001B[0m\n\u001B[0;32m    763\u001B[0m         \u001B[1;32mwith\u001B[0m \u001B[0mself\u001B[0m\u001B[1;33m.\u001B[0m\u001B[0m_lock\u001B[0m\u001B[1;33m:\u001B[0m\u001B[1;33m\u001B[0m\u001B[1;33m\u001B[0m\u001B[0m\n\u001B[0;32m    764\u001B[0m             \u001B[0mjob_idx\u001B[0m \u001B[1;33m=\u001B[0m \u001B[0mlen\u001B[0m\u001B[1;33m(\u001B[0m\u001B[0mself\u001B[0m\u001B[1;33m.\u001B[0m\u001B[0m_jobs\u001B[0m\u001B[1;33m)\u001B[0m\u001B[1;33m\u001B[0m\u001B[1;33m\u001B[0m\u001B[0m\n\u001B[1;32m--> 765\u001B[1;33m             \u001B[0mjob\u001B[0m \u001B[1;33m=\u001B[0m \u001B[0mself\u001B[0m\u001B[1;33m.\u001B[0m\u001B[0m_backend\u001B[0m\u001B[1;33m.\u001B[0m\u001B[0mapply_async\u001B[0m\u001B[1;33m(\u001B[0m\u001B[0mbatch\u001B[0m\u001B[1;33m,\u001B[0m \u001B[0mcallback\u001B[0m\u001B[1;33m=\u001B[0m\u001B[0mcb\u001B[0m\u001B[1;33m)\u001B[0m\u001B[1;33m\u001B[0m\u001B[1;33m\u001B[0m\u001B[0m\n\u001B[0m\u001B[0;32m    766\u001B[0m             \u001B[1;31m# A job can complete so quickly than its callback is\u001B[0m\u001B[1;33m\u001B[0m\u001B[1;33m\u001B[0m\u001B[1;33m\u001B[0m\u001B[0m\n\u001B[0;32m    767\u001B[0m             \u001B[1;31m# called before we get here, causing self._jobs to\u001B[0m\u001B[1;33m\u001B[0m\u001B[1;33m\u001B[0m\u001B[1;33m\u001B[0m\u001B[0m\n",
      "\u001B[1;32mc:\\users\\tsald\\appdata\\local\\programs\\python\\python38\\lib\\site-packages\\joblib\\_parallel_backends.py\u001B[0m in \u001B[0;36mapply_async\u001B[1;34m(self, func, callback)\u001B[0m\n\u001B[0;32m    204\u001B[0m     \u001B[1;32mdef\u001B[0m \u001B[0mapply_async\u001B[0m\u001B[1;33m(\u001B[0m\u001B[0mself\u001B[0m\u001B[1;33m,\u001B[0m \u001B[0mfunc\u001B[0m\u001B[1;33m,\u001B[0m \u001B[0mcallback\u001B[0m\u001B[1;33m=\u001B[0m\u001B[1;32mNone\u001B[0m\u001B[1;33m)\u001B[0m\u001B[1;33m:\u001B[0m\u001B[1;33m\u001B[0m\u001B[1;33m\u001B[0m\u001B[0m\n\u001B[0;32m    205\u001B[0m         \u001B[1;34m\"\"\"Schedule a func to be run\"\"\"\u001B[0m\u001B[1;33m\u001B[0m\u001B[1;33m\u001B[0m\u001B[0m\n\u001B[1;32m--> 206\u001B[1;33m         \u001B[0mresult\u001B[0m \u001B[1;33m=\u001B[0m \u001B[0mImmediateResult\u001B[0m\u001B[1;33m(\u001B[0m\u001B[0mfunc\u001B[0m\u001B[1;33m)\u001B[0m\u001B[1;33m\u001B[0m\u001B[1;33m\u001B[0m\u001B[0m\n\u001B[0m\u001B[0;32m    207\u001B[0m         \u001B[1;32mif\u001B[0m \u001B[0mcallback\u001B[0m\u001B[1;33m:\u001B[0m\u001B[1;33m\u001B[0m\u001B[1;33m\u001B[0m\u001B[0m\n\u001B[0;32m    208\u001B[0m             \u001B[0mcallback\u001B[0m\u001B[1;33m(\u001B[0m\u001B[0mresult\u001B[0m\u001B[1;33m)\u001B[0m\u001B[1;33m\u001B[0m\u001B[1;33m\u001B[0m\u001B[0m\n",
      "\u001B[1;32mc:\\users\\tsald\\appdata\\local\\programs\\python\\python38\\lib\\site-packages\\joblib\\_parallel_backends.py\u001B[0m in \u001B[0;36m__init__\u001B[1;34m(self, batch)\u001B[0m\n\u001B[0;32m    568\u001B[0m         \u001B[1;31m# Don't delay the application, to avoid keeping the input\u001B[0m\u001B[1;33m\u001B[0m\u001B[1;33m\u001B[0m\u001B[1;33m\u001B[0m\u001B[0m\n\u001B[0;32m    569\u001B[0m         \u001B[1;31m# arguments in memory\u001B[0m\u001B[1;33m\u001B[0m\u001B[1;33m\u001B[0m\u001B[1;33m\u001B[0m\u001B[0m\n\u001B[1;32m--> 570\u001B[1;33m         \u001B[0mself\u001B[0m\u001B[1;33m.\u001B[0m\u001B[0mresults\u001B[0m \u001B[1;33m=\u001B[0m \u001B[0mbatch\u001B[0m\u001B[1;33m(\u001B[0m\u001B[1;33m)\u001B[0m\u001B[1;33m\u001B[0m\u001B[1;33m\u001B[0m\u001B[0m\n\u001B[0m\u001B[0;32m    571\u001B[0m \u001B[1;33m\u001B[0m\u001B[0m\n\u001B[0;32m    572\u001B[0m     \u001B[1;32mdef\u001B[0m \u001B[0mget\u001B[0m\u001B[1;33m(\u001B[0m\u001B[0mself\u001B[0m\u001B[1;33m)\u001B[0m\u001B[1;33m:\u001B[0m\u001B[1;33m\u001B[0m\u001B[1;33m\u001B[0m\u001B[0m\n",
      "\u001B[1;32mc:\\users\\tsald\\appdata\\local\\programs\\python\\python38\\lib\\site-packages\\joblib\\parallel.py\u001B[0m in \u001B[0;36m__call__\u001B[1;34m(self)\u001B[0m\n\u001B[0;32m    250\u001B[0m         \u001B[1;31m# change the default number of processes to -1\u001B[0m\u001B[1;33m\u001B[0m\u001B[1;33m\u001B[0m\u001B[1;33m\u001B[0m\u001B[0m\n\u001B[0;32m    251\u001B[0m         \u001B[1;32mwith\u001B[0m \u001B[0mparallel_backend\u001B[0m\u001B[1;33m(\u001B[0m\u001B[0mself\u001B[0m\u001B[1;33m.\u001B[0m\u001B[0m_backend\u001B[0m\u001B[1;33m,\u001B[0m \u001B[0mn_jobs\u001B[0m\u001B[1;33m=\u001B[0m\u001B[0mself\u001B[0m\u001B[1;33m.\u001B[0m\u001B[0m_n_jobs\u001B[0m\u001B[1;33m)\u001B[0m\u001B[1;33m:\u001B[0m\u001B[1;33m\u001B[0m\u001B[1;33m\u001B[0m\u001B[0m\n\u001B[1;32m--> 252\u001B[1;33m             return [func(*args, **kwargs)\n\u001B[0m\u001B[0;32m    253\u001B[0m                     for func, args, kwargs in self.items]\n\u001B[0;32m    254\u001B[0m \u001B[1;33m\u001B[0m\u001B[0m\n",
      "\u001B[1;32mc:\\users\\tsald\\appdata\\local\\programs\\python\\python38\\lib\\site-packages\\joblib\\parallel.py\u001B[0m in \u001B[0;36m<listcomp>\u001B[1;34m(.0)\u001B[0m\n\u001B[0;32m    250\u001B[0m         \u001B[1;31m# change the default number of processes to -1\u001B[0m\u001B[1;33m\u001B[0m\u001B[1;33m\u001B[0m\u001B[1;33m\u001B[0m\u001B[0m\n\u001B[0;32m    251\u001B[0m         \u001B[1;32mwith\u001B[0m \u001B[0mparallel_backend\u001B[0m\u001B[1;33m(\u001B[0m\u001B[0mself\u001B[0m\u001B[1;33m.\u001B[0m\u001B[0m_backend\u001B[0m\u001B[1;33m,\u001B[0m \u001B[0mn_jobs\u001B[0m\u001B[1;33m=\u001B[0m\u001B[0mself\u001B[0m\u001B[1;33m.\u001B[0m\u001B[0m_n_jobs\u001B[0m\u001B[1;33m)\u001B[0m\u001B[1;33m:\u001B[0m\u001B[1;33m\u001B[0m\u001B[1;33m\u001B[0m\u001B[0m\n\u001B[1;32m--> 252\u001B[1;33m             return [func(*args, **kwargs)\n\u001B[0m\u001B[0;32m    253\u001B[0m                     for func, args, kwargs in self.items]\n\u001B[0;32m    254\u001B[0m \u001B[1;33m\u001B[0m\u001B[0m\n",
      "\u001B[1;32mc:\\users\\tsald\\appdata\\local\\programs\\python\\python38\\lib\\site-packages\\sklearn\\linear_model\\_logistic.py\u001B[0m in \u001B[0;36m_logistic_regression_path\u001B[1;34m(X, y, pos_class, Cs, fit_intercept, max_iter, tol, verbose, solver, coef, class_weight, dual, penalty, intercept_scaling, multi_class, random_state, check_input, max_squared_sum, sample_weight, l1_ratio)\u001B[0m\n\u001B[0;32m    753\u001B[0m             iprint = [-1, 50, 1, 100, 101][\n\u001B[0;32m    754\u001B[0m                 np.searchsorted(np.array([0, 1, 2, 3]), verbose)]\n\u001B[1;32m--> 755\u001B[1;33m             opt_res = optimize.minimize(\n\u001B[0m\u001B[0;32m    756\u001B[0m                 \u001B[0mfunc\u001B[0m\u001B[1;33m,\u001B[0m \u001B[0mw0\u001B[0m\u001B[1;33m,\u001B[0m \u001B[0mmethod\u001B[0m\u001B[1;33m=\u001B[0m\u001B[1;34m\"L-BFGS-B\"\u001B[0m\u001B[1;33m,\u001B[0m \u001B[0mjac\u001B[0m\u001B[1;33m=\u001B[0m\u001B[1;32mTrue\u001B[0m\u001B[1;33m,\u001B[0m\u001B[1;33m\u001B[0m\u001B[1;33m\u001B[0m\u001B[0m\n\u001B[0;32m    757\u001B[0m                 \u001B[0margs\u001B[0m\u001B[1;33m=\u001B[0m\u001B[1;33m(\u001B[0m\u001B[0mX\u001B[0m\u001B[1;33m,\u001B[0m \u001B[0mtarget\u001B[0m\u001B[1;33m,\u001B[0m \u001B[1;36m1.\u001B[0m \u001B[1;33m/\u001B[0m \u001B[0mC\u001B[0m\u001B[1;33m,\u001B[0m \u001B[0msample_weight\u001B[0m\u001B[1;33m)\u001B[0m\u001B[1;33m,\u001B[0m\u001B[1;33m\u001B[0m\u001B[1;33m\u001B[0m\u001B[0m\n",
      "\u001B[1;32mc:\\users\\tsald\\appdata\\local\\programs\\python\\python38\\lib\\site-packages\\scipy\\optimize\\_minimize.py\u001B[0m in \u001B[0;36mminimize\u001B[1;34m(fun, x0, args, method, jac, hess, hessp, bounds, constraints, tol, callback, options)\u001B[0m\n\u001B[0;32m    607\u001B[0m                                   **options)\n\u001B[0;32m    608\u001B[0m     \u001B[1;32melif\u001B[0m \u001B[0mmeth\u001B[0m \u001B[1;33m==\u001B[0m \u001B[1;34m'l-bfgs-b'\u001B[0m\u001B[1;33m:\u001B[0m\u001B[1;33m\u001B[0m\u001B[1;33m\u001B[0m\u001B[0m\n\u001B[1;32m--> 609\u001B[1;33m         return _minimize_lbfgsb(fun, x0, args, jac, bounds,\n\u001B[0m\u001B[0;32m    610\u001B[0m                                 callback=callback, **options)\n\u001B[0;32m    611\u001B[0m     \u001B[1;32melif\u001B[0m \u001B[0mmeth\u001B[0m \u001B[1;33m==\u001B[0m \u001B[1;34m'tnc'\u001B[0m\u001B[1;33m:\u001B[0m\u001B[1;33m\u001B[0m\u001B[1;33m\u001B[0m\u001B[0m\n",
      "\u001B[1;32mc:\\users\\tsald\\appdata\\local\\programs\\python\\python38\\lib\\site-packages\\scipy\\optimize\\lbfgsb.py\u001B[0m in \u001B[0;36m_minimize_lbfgsb\u001B[1;34m(fun, x0, args, jac, bounds, disp, maxcor, ftol, gtol, eps, maxfun, maxiter, iprint, callback, maxls, **unknown_options)\u001B[0m\n\u001B[0;32m    343\u001B[0m             \u001B[1;31m# until the completion of the current minimization iteration.\u001B[0m\u001B[1;33m\u001B[0m\u001B[1;33m\u001B[0m\u001B[1;33m\u001B[0m\u001B[0m\n\u001B[0;32m    344\u001B[0m             \u001B[1;31m# Overwrite f and g:\u001B[0m\u001B[1;33m\u001B[0m\u001B[1;33m\u001B[0m\u001B[1;33m\u001B[0m\u001B[0m\n\u001B[1;32m--> 345\u001B[1;33m             \u001B[0mf\u001B[0m\u001B[1;33m,\u001B[0m \u001B[0mg\u001B[0m \u001B[1;33m=\u001B[0m \u001B[0mfunc_and_grad\u001B[0m\u001B[1;33m(\u001B[0m\u001B[0mx\u001B[0m\u001B[1;33m)\u001B[0m\u001B[1;33m\u001B[0m\u001B[1;33m\u001B[0m\u001B[0m\n\u001B[0m\u001B[0;32m    346\u001B[0m         \u001B[1;32melif\u001B[0m \u001B[0mtask_str\u001B[0m\u001B[1;33m.\u001B[0m\u001B[0mstartswith\u001B[0m\u001B[1;33m(\u001B[0m\u001B[1;34mb'NEW_X'\u001B[0m\u001B[1;33m)\u001B[0m\u001B[1;33m:\u001B[0m\u001B[1;33m\u001B[0m\u001B[1;33m\u001B[0m\u001B[0m\n\u001B[0;32m    347\u001B[0m             \u001B[1;31m# new iteration\u001B[0m\u001B[1;33m\u001B[0m\u001B[1;33m\u001B[0m\u001B[1;33m\u001B[0m\u001B[0m\n",
      "\u001B[1;32mc:\\users\\tsald\\appdata\\local\\programs\\python\\python38\\lib\\site-packages\\scipy\\optimize\\lbfgsb.py\u001B[0m in \u001B[0;36mfunc_and_grad\u001B[1;34m(x)\u001B[0m\n\u001B[0;32m    293\u001B[0m     \u001B[1;32melse\u001B[0m\u001B[1;33m:\u001B[0m\u001B[1;33m\u001B[0m\u001B[1;33m\u001B[0m\u001B[0m\n\u001B[0;32m    294\u001B[0m         \u001B[1;32mdef\u001B[0m \u001B[0mfunc_and_grad\u001B[0m\u001B[1;33m(\u001B[0m\u001B[0mx\u001B[0m\u001B[1;33m)\u001B[0m\u001B[1;33m:\u001B[0m\u001B[1;33m\u001B[0m\u001B[1;33m\u001B[0m\u001B[0m\n\u001B[1;32m--> 295\u001B[1;33m             \u001B[0mf\u001B[0m \u001B[1;33m=\u001B[0m \u001B[0mfun\u001B[0m\u001B[1;33m(\u001B[0m\u001B[0mx\u001B[0m\u001B[1;33m,\u001B[0m \u001B[1;33m*\u001B[0m\u001B[0margs\u001B[0m\u001B[1;33m)\u001B[0m\u001B[1;33m\u001B[0m\u001B[1;33m\u001B[0m\u001B[0m\n\u001B[0m\u001B[0;32m    296\u001B[0m             \u001B[0mg\u001B[0m \u001B[1;33m=\u001B[0m \u001B[0mjac\u001B[0m\u001B[1;33m(\u001B[0m\u001B[0mx\u001B[0m\u001B[1;33m,\u001B[0m \u001B[1;33m*\u001B[0m\u001B[0margs\u001B[0m\u001B[1;33m)\u001B[0m\u001B[1;33m\u001B[0m\u001B[1;33m\u001B[0m\u001B[0m\n\u001B[0;32m    297\u001B[0m             \u001B[1;32mreturn\u001B[0m \u001B[0mf\u001B[0m\u001B[1;33m,\u001B[0m \u001B[0mg\u001B[0m\u001B[1;33m\u001B[0m\u001B[1;33m\u001B[0m\u001B[0m\n",
      "\u001B[1;32mc:\\users\\tsald\\appdata\\local\\programs\\python\\python38\\lib\\site-packages\\scipy\\optimize\\optimize.py\u001B[0m in \u001B[0;36mfunction_wrapper\u001B[1;34m(*wrapper_args)\u001B[0m\n\u001B[0;32m    325\u001B[0m     \u001B[1;32mdef\u001B[0m \u001B[0mfunction_wrapper\u001B[0m\u001B[1;33m(\u001B[0m\u001B[1;33m*\u001B[0m\u001B[0mwrapper_args\u001B[0m\u001B[1;33m)\u001B[0m\u001B[1;33m:\u001B[0m\u001B[1;33m\u001B[0m\u001B[1;33m\u001B[0m\u001B[0m\n\u001B[0;32m    326\u001B[0m         \u001B[0mncalls\u001B[0m\u001B[1;33m[\u001B[0m\u001B[1;36m0\u001B[0m\u001B[1;33m]\u001B[0m \u001B[1;33m+=\u001B[0m \u001B[1;36m1\u001B[0m\u001B[1;33m\u001B[0m\u001B[1;33m\u001B[0m\u001B[0m\n\u001B[1;32m--> 327\u001B[1;33m         \u001B[1;32mreturn\u001B[0m \u001B[0mfunction\u001B[0m\u001B[1;33m(\u001B[0m\u001B[1;33m*\u001B[0m\u001B[1;33m(\u001B[0m\u001B[0mwrapper_args\u001B[0m \u001B[1;33m+\u001B[0m \u001B[0margs\u001B[0m\u001B[1;33m)\u001B[0m\u001B[1;33m)\u001B[0m\u001B[1;33m\u001B[0m\u001B[1;33m\u001B[0m\u001B[0m\n\u001B[0m\u001B[0;32m    328\u001B[0m \u001B[1;33m\u001B[0m\u001B[0m\n\u001B[0;32m    329\u001B[0m     \u001B[1;32mreturn\u001B[0m \u001B[0mncalls\u001B[0m\u001B[1;33m,\u001B[0m \u001B[0mfunction_wrapper\u001B[0m\u001B[1;33m\u001B[0m\u001B[1;33m\u001B[0m\u001B[0m\n",
      "\u001B[1;32mc:\\users\\tsald\\appdata\\local\\programs\\python\\python38\\lib\\site-packages\\scipy\\optimize\\optimize.py\u001B[0m in \u001B[0;36m__call__\u001B[1;34m(self, x, *args)\u001B[0m\n\u001B[0;32m     63\u001B[0m     \u001B[1;32mdef\u001B[0m \u001B[0m__call__\u001B[0m\u001B[1;33m(\u001B[0m\u001B[0mself\u001B[0m\u001B[1;33m,\u001B[0m \u001B[0mx\u001B[0m\u001B[1;33m,\u001B[0m \u001B[1;33m*\u001B[0m\u001B[0margs\u001B[0m\u001B[1;33m)\u001B[0m\u001B[1;33m:\u001B[0m\u001B[1;33m\u001B[0m\u001B[1;33m\u001B[0m\u001B[0m\n\u001B[0;32m     64\u001B[0m         \u001B[0mself\u001B[0m\u001B[1;33m.\u001B[0m\u001B[0mx\u001B[0m \u001B[1;33m=\u001B[0m \u001B[0mnumpy\u001B[0m\u001B[1;33m.\u001B[0m\u001B[0masarray\u001B[0m\u001B[1;33m(\u001B[0m\u001B[0mx\u001B[0m\u001B[1;33m)\u001B[0m\u001B[1;33m.\u001B[0m\u001B[0mcopy\u001B[0m\u001B[1;33m(\u001B[0m\u001B[1;33m)\u001B[0m\u001B[1;33m\u001B[0m\u001B[1;33m\u001B[0m\u001B[0m\n\u001B[1;32m---> 65\u001B[1;33m         \u001B[0mfg\u001B[0m \u001B[1;33m=\u001B[0m \u001B[0mself\u001B[0m\u001B[1;33m.\u001B[0m\u001B[0mfun\u001B[0m\u001B[1;33m(\u001B[0m\u001B[0mx\u001B[0m\u001B[1;33m,\u001B[0m \u001B[1;33m*\u001B[0m\u001B[0margs\u001B[0m\u001B[1;33m)\u001B[0m\u001B[1;33m\u001B[0m\u001B[1;33m\u001B[0m\u001B[0m\n\u001B[0m\u001B[0;32m     66\u001B[0m         \u001B[0mself\u001B[0m\u001B[1;33m.\u001B[0m\u001B[0mjac\u001B[0m \u001B[1;33m=\u001B[0m \u001B[0mfg\u001B[0m\u001B[1;33m[\u001B[0m\u001B[1;36m1\u001B[0m\u001B[1;33m]\u001B[0m\u001B[1;33m\u001B[0m\u001B[1;33m\u001B[0m\u001B[0m\n\u001B[0;32m     67\u001B[0m         \u001B[1;32mreturn\u001B[0m \u001B[0mfg\u001B[0m\u001B[1;33m[\u001B[0m\u001B[1;36m0\u001B[0m\u001B[1;33m]\u001B[0m\u001B[1;33m\u001B[0m\u001B[1;33m\u001B[0m\u001B[0m\n",
      "\u001B[1;32mc:\\users\\tsald\\appdata\\local\\programs\\python\\python38\\lib\\site-packages\\sklearn\\linear_model\\_logistic.py\u001B[0m in \u001B[0;36mfunc\u001B[1;34m(x, *args)\u001B[0m\n\u001B[0;32m    731\u001B[0m         \u001B[0mtarget\u001B[0m \u001B[1;33m=\u001B[0m \u001B[0mY_multi\u001B[0m\u001B[1;33m\u001B[0m\u001B[1;33m\u001B[0m\u001B[0m\n\u001B[0;32m    732\u001B[0m         \u001B[1;32mif\u001B[0m \u001B[0msolver\u001B[0m \u001B[1;33m==\u001B[0m \u001B[1;34m'lbfgs'\u001B[0m\u001B[1;33m:\u001B[0m\u001B[1;33m\u001B[0m\u001B[1;33m\u001B[0m\u001B[0m\n\u001B[1;32m--> 733\u001B[1;33m             \u001B[1;32mdef\u001B[0m \u001B[0mfunc\u001B[0m\u001B[1;33m(\u001B[0m\u001B[0mx\u001B[0m\u001B[1;33m,\u001B[0m \u001B[1;33m*\u001B[0m\u001B[0margs\u001B[0m\u001B[1;33m)\u001B[0m\u001B[1;33m:\u001B[0m \u001B[1;32mreturn\u001B[0m \u001B[0m_multinomial_loss_grad\u001B[0m\u001B[1;33m(\u001B[0m\u001B[0mx\u001B[0m\u001B[1;33m,\u001B[0m \u001B[1;33m*\u001B[0m\u001B[0margs\u001B[0m\u001B[1;33m)\u001B[0m\u001B[1;33m[\u001B[0m\u001B[1;36m0\u001B[0m\u001B[1;33m:\u001B[0m\u001B[1;36m2\u001B[0m\u001B[1;33m]\u001B[0m\u001B[1;33m\u001B[0m\u001B[1;33m\u001B[0m\u001B[0m\n\u001B[0m\u001B[0;32m    734\u001B[0m         \u001B[1;32melif\u001B[0m \u001B[0msolver\u001B[0m \u001B[1;33m==\u001B[0m \u001B[1;34m'newton-cg'\u001B[0m\u001B[1;33m:\u001B[0m\u001B[1;33m\u001B[0m\u001B[1;33m\u001B[0m\u001B[0m\n\u001B[0;32m    735\u001B[0m             \u001B[1;32mdef\u001B[0m \u001B[0mfunc\u001B[0m\u001B[1;33m(\u001B[0m\u001B[0mx\u001B[0m\u001B[1;33m,\u001B[0m \u001B[1;33m*\u001B[0m\u001B[0margs\u001B[0m\u001B[1;33m)\u001B[0m\u001B[1;33m:\u001B[0m \u001B[1;32mreturn\u001B[0m \u001B[0m_multinomial_loss\u001B[0m\u001B[1;33m(\u001B[0m\u001B[0mx\u001B[0m\u001B[1;33m,\u001B[0m \u001B[1;33m*\u001B[0m\u001B[0margs\u001B[0m\u001B[1;33m)\u001B[0m\u001B[1;33m[\u001B[0m\u001B[1;36m0\u001B[0m\u001B[1;33m]\u001B[0m\u001B[1;33m\u001B[0m\u001B[1;33m\u001B[0m\u001B[0m\n",
      "\u001B[1;32mc:\\users\\tsald\\appdata\\local\\programs\\python\\python38\\lib\\site-packages\\sklearn\\linear_model\\_logistic.py\u001B[0m in \u001B[0;36m_multinomial_loss_grad\u001B[1;34m(w, X, Y, alpha, sample_weight)\u001B[0m\n\u001B[0;32m    345\u001B[0m     grad = np.zeros((n_classes, n_features + bool(fit_intercept)),\n\u001B[0;32m    346\u001B[0m                     dtype=X.dtype)\n\u001B[1;32m--> 347\u001B[1;33m     \u001B[0mloss\u001B[0m\u001B[1;33m,\u001B[0m \u001B[0mp\u001B[0m\u001B[1;33m,\u001B[0m \u001B[0mw\u001B[0m \u001B[1;33m=\u001B[0m \u001B[0m_multinomial_loss\u001B[0m\u001B[1;33m(\u001B[0m\u001B[0mw\u001B[0m\u001B[1;33m,\u001B[0m \u001B[0mX\u001B[0m\u001B[1;33m,\u001B[0m \u001B[0mY\u001B[0m\u001B[1;33m,\u001B[0m \u001B[0malpha\u001B[0m\u001B[1;33m,\u001B[0m \u001B[0msample_weight\u001B[0m\u001B[1;33m)\u001B[0m\u001B[1;33m\u001B[0m\u001B[1;33m\u001B[0m\u001B[0m\n\u001B[0m\u001B[0;32m    348\u001B[0m     \u001B[0msample_weight\u001B[0m \u001B[1;33m=\u001B[0m \u001B[0msample_weight\u001B[0m\u001B[1;33m[\u001B[0m\u001B[1;33m:\u001B[0m\u001B[1;33m,\u001B[0m \u001B[0mnp\u001B[0m\u001B[1;33m.\u001B[0m\u001B[0mnewaxis\u001B[0m\u001B[1;33m]\u001B[0m\u001B[1;33m\u001B[0m\u001B[1;33m\u001B[0m\u001B[0m\n\u001B[0;32m    349\u001B[0m     \u001B[0mdiff\u001B[0m \u001B[1;33m=\u001B[0m \u001B[0msample_weight\u001B[0m \u001B[1;33m*\u001B[0m \u001B[1;33m(\u001B[0m\u001B[0mp\u001B[0m \u001B[1;33m-\u001B[0m \u001B[0mY\u001B[0m\u001B[1;33m)\u001B[0m\u001B[1;33m\u001B[0m\u001B[1;33m\u001B[0m\u001B[0m\n",
      "\u001B[1;32mc:\\users\\tsald\\appdata\\local\\programs\\python\\python38\\lib\\site-packages\\sklearn\\linear_model\\_logistic.py\u001B[0m in \u001B[0;36m_multinomial_loss\u001B[1;34m(w, X, Y, alpha, sample_weight)\u001B[0m\n\u001B[0;32m    295\u001B[0m     \u001B[0mp\u001B[0m \u001B[1;33m=\u001B[0m \u001B[0msafe_sparse_dot\u001B[0m\u001B[1;33m(\u001B[0m\u001B[0mX\u001B[0m\u001B[1;33m,\u001B[0m \u001B[0mw\u001B[0m\u001B[1;33m.\u001B[0m\u001B[0mT\u001B[0m\u001B[1;33m)\u001B[0m\u001B[1;33m\u001B[0m\u001B[1;33m\u001B[0m\u001B[0m\n\u001B[0;32m    296\u001B[0m     \u001B[0mp\u001B[0m \u001B[1;33m+=\u001B[0m \u001B[0mintercept\u001B[0m\u001B[1;33m\u001B[0m\u001B[1;33m\u001B[0m\u001B[0m\n\u001B[1;32m--> 297\u001B[1;33m     \u001B[0mp\u001B[0m \u001B[1;33m-=\u001B[0m \u001B[0mlogsumexp\u001B[0m\u001B[1;33m(\u001B[0m\u001B[0mp\u001B[0m\u001B[1;33m,\u001B[0m \u001B[0maxis\u001B[0m\u001B[1;33m=\u001B[0m\u001B[1;36m1\u001B[0m\u001B[1;33m)\u001B[0m\u001B[1;33m[\u001B[0m\u001B[1;33m:\u001B[0m\u001B[1;33m,\u001B[0m \u001B[0mnp\u001B[0m\u001B[1;33m.\u001B[0m\u001B[0mnewaxis\u001B[0m\u001B[1;33m]\u001B[0m\u001B[1;33m\u001B[0m\u001B[1;33m\u001B[0m\u001B[0m\n\u001B[0m\u001B[0;32m    298\u001B[0m     \u001B[0mloss\u001B[0m \u001B[1;33m=\u001B[0m \u001B[1;33m-\u001B[0m\u001B[1;33m(\u001B[0m\u001B[0msample_weight\u001B[0m \u001B[1;33m*\u001B[0m \u001B[0mY\u001B[0m \u001B[1;33m*\u001B[0m \u001B[0mp\u001B[0m\u001B[1;33m)\u001B[0m\u001B[1;33m.\u001B[0m\u001B[0msum\u001B[0m\u001B[1;33m(\u001B[0m\u001B[1;33m)\u001B[0m\u001B[1;33m\u001B[0m\u001B[1;33m\u001B[0m\u001B[0m\n\u001B[0;32m    299\u001B[0m     \u001B[0mloss\u001B[0m \u001B[1;33m+=\u001B[0m \u001B[1;36m0.5\u001B[0m \u001B[1;33m*\u001B[0m \u001B[0malpha\u001B[0m \u001B[1;33m*\u001B[0m \u001B[0msquared_norm\u001B[0m\u001B[1;33m(\u001B[0m\u001B[0mw\u001B[0m\u001B[1;33m)\u001B[0m\u001B[1;33m\u001B[0m\u001B[1;33m\u001B[0m\u001B[0m\n",
      "\u001B[1;32mc:\\users\\tsald\\appdata\\local\\programs\\python\\python38\\lib\\site-packages\\scipy\\special\\_logsumexp.py\u001B[0m in \u001B[0;36mlogsumexp\u001B[1;34m(a, axis, b, keepdims, return_sign)\u001B[0m\n\u001B[0;32m    110\u001B[0m         \u001B[0mtmp\u001B[0m \u001B[1;33m=\u001B[0m \u001B[0mb\u001B[0m \u001B[1;33m*\u001B[0m \u001B[0mnp\u001B[0m\u001B[1;33m.\u001B[0m\u001B[0mexp\u001B[0m\u001B[1;33m(\u001B[0m\u001B[0ma\u001B[0m \u001B[1;33m-\u001B[0m \u001B[0ma_max\u001B[0m\u001B[1;33m)\u001B[0m\u001B[1;33m\u001B[0m\u001B[1;33m\u001B[0m\u001B[0m\n\u001B[0;32m    111\u001B[0m     \u001B[1;32melse\u001B[0m\u001B[1;33m:\u001B[0m\u001B[1;33m\u001B[0m\u001B[1;33m\u001B[0m\u001B[0m\n\u001B[1;32m--> 112\u001B[1;33m         \u001B[0mtmp\u001B[0m \u001B[1;33m=\u001B[0m \u001B[0mnp\u001B[0m\u001B[1;33m.\u001B[0m\u001B[0mexp\u001B[0m\u001B[1;33m(\u001B[0m\u001B[0ma\u001B[0m \u001B[1;33m-\u001B[0m \u001B[0ma_max\u001B[0m\u001B[1;33m)\u001B[0m\u001B[1;33m\u001B[0m\u001B[1;33m\u001B[0m\u001B[0m\n\u001B[0m\u001B[0;32m    113\u001B[0m \u001B[1;33m\u001B[0m\u001B[0m\n\u001B[0;32m    114\u001B[0m     \u001B[1;31m# suppress warnings about log of zero\u001B[0m\u001B[1;33m\u001B[0m\u001B[1;33m\u001B[0m\u001B[1;33m\u001B[0m\u001B[0m\n",
      "\u001B[1;31mKeyboardInterrupt\u001B[0m: "
     ]
    }
   ],
   "source": [
    "# model = LogisticRegression()\n",
    "#\n",
    "# rfe = RFE(model, 3)\n",
    "#\n",
    "# fit_rfe = rfe.fit(X, y)\n",
    "#\n",
    "# print(\"Num Features: %d\") % fit_rfe.n_features_\n",
    "#\n",
    "# print(\"Selected Features: %s\") % fit_rfe.support_\n",
    "#\n",
    "# print(\"Feature Ranking: %s\") % fit_rfe.ranking_"
   ],
   "metadata": {
    "collapsed": false,
    "pycharm": {
     "name": "#%%\n"
    }
   }
  },
  {
   "cell_type": "code",
   "execution_count": null,
   "outputs": [],
   "source": [],
   "metadata": {
    "collapsed": false,
    "pycharm": {
     "name": "#%%\n"
    }
   }
  },
  {
   "cell_type": "code",
   "execution_count": 5,
   "metadata": {},
   "outputs": [],
   "source": [
    "df2['power'] = df2.apply(lambda z : z['name'][(z['name'].find('(')+1):(z['name'].find('л.с.')-1)],axis=1)"
   ]
  },
  {
   "cell_type": "code",
   "execution_count": 238,
   "metadata": {},
   "outputs": [],
   "source": [
    "df2['numberOfDoors'] = df2.apply(lambda z: int(z['numberOfDoors']),axis = 1)"
   ]
  },
  {
   "cell_type": "code",
   "execution_count": 239,
   "metadata": {},
   "outputs": [],
   "source": [
    "df2['vehicleConfiguration'] = df2.apply(lambda z: z['vehicleConfiguration'][:z['vehicleConfiguration'].find(' ')], axis = 1)"
   ]
  },
  {
   "cell_type": "code",
   "execution_count": 240,
   "metadata": {},
   "outputs": [],
   "source": [
    "df2['productionDate'] = df2.apply(lambda z: int(z['productionDate']),axis = 1)"
   ]
  },
  {
   "cell_type": "code",
   "execution_count": 241,
   "metadata": {},
   "outputs": [],
   "source": [
    "df2 = df2.drop('bodyType',axis = 1)"
   ]
  },
  {
   "cell_type": "code",
   "execution_count": 242,
   "metadata": {},
   "outputs": [],
   "source": [
    "df2['modelDate'] = df2.apply(lambda z: int(z['modelDate']),axis = 1)"
   ]
  },
  {
   "cell_type": "code",
   "execution_count": 243,
   "metadata": {},
   "outputs": [],
   "source": [
    "def vtrans(x):\n",
    "    if x == 'механическая':\n",
    "        return 1\n",
    "    elif x == 'автоматическая':\n",
    "        return 3\n",
    "    elif x == 'вариатор':\n",
    "        return 2\n",
    "    elif x == 'роботизированная':\n",
    "        return 4\n",
    "    "
   ]
  },
  {
   "cell_type": "code",
   "execution_count": 244,
   "metadata": {},
   "outputs": [],
   "source": [
    "df2['vTransmission'] = df2['vehicleTransmission'].apply(vtrans)"
   ]
  },
  {
   "cell_type": "code",
   "execution_count": 245,
   "metadata": {},
   "outputs": [],
   "source": [
    "df2 = df2.drop('name',axis = 1)"
   ]
  },
  {
   "cell_type": "code",
   "execution_count": 246,
   "metadata": {},
   "outputs": [],
   "source": [
    "df2 = df2.drop('Таможня',axis = 1)"
   ]
  },
  {
   "cell_type": "code",
   "execution_count": 247,
   "metadata": {},
   "outputs": [],
   "source": [
    "def vPTS(x):\n",
    "    if x == 'Оригинал':\n",
    "        return 2\n",
    "    elif x == 'Дубликат':\n",
    "        return 1\n"
   ]
  },
  {
   "cell_type": "code",
   "execution_count": 248,
   "metadata": {},
   "outputs": [],
   "source": [
    "df2['ПТС'] = df2['ПТС'].apply(vPTS)"
   ]
  },
  {
   "cell_type": "code",
   "execution_count": 249,
   "metadata": {},
   "outputs": [],
   "source": [
    "def vConfig(x):\n",
    "    if x.find('_') > 0:\n",
    "        return x[:x.find('_')]\n",
    "    else:\n",
    "        return x    "
   ]
  },
  {
   "cell_type": "code",
   "execution_count": 250,
   "metadata": {},
   "outputs": [],
   "source": [
    "df2['vehicleConfiguration'] = df2['vehicleConfiguration'].apply(vConfig)"
   ]
  },
  {
   "cell_type": "code",
   "execution_count": 251,
   "metadata": {},
   "outputs": [
    {
     "data": {
      "text/plain": [
       "ALLROAD       14665\n",
       "SEDAN         11704\n",
       "LIFTBACK       3097\n",
       "HATCHBACK      2634\n",
       "WAGON          1334\n",
       "COUPE           860\n",
       "MINIVAN         801\n",
       "COMPACTVAN      423\n",
       "PICKUP          292\n",
       "CABRIO           58\n",
       "VAN              55\n",
       "ROADSTER         48\n",
       "MICROVAN         15\n",
       "LIMOUSINE         2\n",
       "TARGA             2\n",
       "Name: vehicleConfiguration, dtype: int64"
      ]
     },
     "execution_count": 251,
     "metadata": {},
     "output_type": "execute_result"
    }
   ],
   "source": [
    "df2.vehicleConfiguration.value_counts()"
   ]
  },
  {
   "cell_type": "code",
   "execution_count": 252,
   "metadata": {},
   "outputs": [
    {
     "data": {
      "text/plain": [
       "VOLKSWAGEN    3872\n",
       "AUDI          3837\n",
       "BMW           3837\n",
       "TOYOTA        3706\n",
       "MERCEDES      3671\n",
       "SKODA         3651\n",
       "NISSAN        3602\n",
       "MITSUBISHI    2161\n",
       "VOLVO         2140\n",
       "HONDA         1692\n",
       "LEXUS         1427\n",
       "INFINITI      1336\n",
       "SUZUKI        1058\n",
       "Name: brand, dtype: int64"
      ]
     },
     "execution_count": 252,
     "metadata": {},
     "output_type": "execute_result"
    }
   ],
   "source": [
    "df2.brand.value_counts()"
   ]
  },
  {
   "cell_type": "code",
   "execution_count": 253,
   "metadata": {},
   "outputs": [
    {
     "data": {
      "text/plain": [
       "бензин     29568\n",
       "дизель      6123\n",
       "гибрид       276\n",
       "электро       17\n",
       "газ            6\n",
       "Name: fuelType, dtype: int64"
      ]
     },
     "execution_count": 253,
     "metadata": {},
     "output_type": "execute_result"
    }
   ],
   "source": [
    "df2.fuelType.value_counts()"
   ]
  },
  {
   "cell_type": "code",
   "execution_count": 254,
   "metadata": {},
   "outputs": [
    {
     "data": {
      "text/plain": [
       "полный      17548\n",
       "передний    15146\n",
       "задний       3296\n",
       "Name: Привод, dtype: int64"
      ]
     },
     "execution_count": 254,
     "metadata": {},
     "output_type": "execute_result"
    }
   ],
   "source": [
    "df2['Привод'].value_counts()"
   ]
  },
  {
   "cell_type": "code",
   "execution_count": 255,
   "metadata": {},
   "outputs": [],
   "source": [
    "df2 = df2.drop('enginePower',axis = 1)"
   ]
  },
  {
   "cell_type": "code",
   "execution_count": 256,
   "metadata": {},
   "outputs": [],
   "source": [
    "df2 = df2.drop('description',axis = 1)"
   ]
  },
  {
   "cell_type": "code",
   "execution_count": 257,
   "metadata": {},
   "outputs": [],
   "source": [
    "df2['mileage'] = df2.apply(lambda z: int(z['mileage']),axis = 1)"
   ]
  },
  {
   "cell_type": "code",
   "execution_count": 258,
   "metadata": {},
   "outputs": [],
   "source": [
    "df2 = df2.drop('Состояние',axis = 1)"
   ]
  },
  {
   "cell_type": "code",
   "execution_count": 259,
   "metadata": {},
   "outputs": [
    {
     "data": {
      "text/plain": [
       "Левый     35100\n",
       "Правый      890\n",
       "Name: Руль, dtype: int64"
      ]
     },
     "execution_count": 259,
     "metadata": {},
     "output_type": "execute_result"
    }
   ],
   "source": [
    "df2['Руль'].value_counts()"
   ]
  },
  {
   "cell_type": "code",
   "execution_count": 260,
   "metadata": {},
   "outputs": [],
   "source": [
    "def own(x):\n",
    "    if x.find('или') > 0:\n",
    "        return x[:x.find('или')-1]\n",
    "    else:\n",
    "        return x[:x.find('владе')-1]"
   ]
  },
  {
   "cell_type": "code",
   "execution_count": 261,
   "metadata": {},
   "outputs": [],
   "source": [
    "df2['Владельцы'] = df2['Владельцы'].apply(own)"
   ]
  },
  {
   "cell_type": "code",
   "execution_count": 262,
   "metadata": {},
   "outputs": [],
   "source": [
    "df2 = df2.drop('Владение',axis = 1)"
   ]
  },
  {
   "cell_type": "code",
   "execution_count": 263,
   "metadata": {},
   "outputs": [],
   "source": [
    "df2 = df2.drop('id',axis = 1)"
   ]
  },
  {
   "cell_type": "code",
   "execution_count": 265,
   "metadata": {},
   "outputs": [],
   "source": [
    "df2 = df2.drop(np.where(df2['engineDisplacement'] == 'undefined LTR')[0])"
   ]
  },
  {
   "cell_type": "code",
   "execution_count": 268,
   "metadata": {},
   "outputs": [],
   "source": [
    "df2['engineDisplacement'] = df2.apply(lambda z: float(z['engineDisplacement'][:z['engineDisplacement'].find('LTR') - 1]), axis = 1)"
   ]
  },
  {
   "cell_type": "code",
   "execution_count": 269,
   "metadata": {},
   "outputs": [
    {
     "data": {
      "text/html": [
       "<div>\n",
       "<style scoped>\n",
       "    .dataframe tbody tr th:only-of-type {\n",
       "        vertical-align: middle;\n",
       "    }\n",
       "\n",
       "    .dataframe tbody tr th {\n",
       "        vertical-align: top;\n",
       "    }\n",
       "\n",
       "    .dataframe thead th {\n",
       "        text-align: right;\n",
       "    }\n",
       "</style>\n",
       "<table border=\"1\" class=\"dataframe\">\n",
       "  <thead>\n",
       "    <tr style=\"text-align: right;\">\n",
       "      <th></th>\n",
       "      <th>brand</th>\n",
       "      <th>color</th>\n",
       "      <th>fuelType</th>\n",
       "      <th>modelDate</th>\n",
       "      <th>numberOfDoors</th>\n",
       "      <th>productionDate</th>\n",
       "      <th>vehicleConfiguration</th>\n",
       "      <th>vehicleTransmission</th>\n",
       "      <th>engineDisplacement</th>\n",
       "      <th>mileage</th>\n",
       "      <th>Комплектация</th>\n",
       "      <th>Привод</th>\n",
       "      <th>Руль</th>\n",
       "      <th>Владельцы</th>\n",
       "      <th>ПТС</th>\n",
       "      <th>power</th>\n",
       "      <th>vTransmission</th>\n",
       "      <th>eDisplacement</th>\n",
       "    </tr>\n",
       "  </thead>\n",
       "  <tbody>\n",
       "    <tr>\n",
       "      <th>0</th>\n",
       "      <td>MERCEDES</td>\n",
       "      <td>синий</td>\n",
       "      <td>бензин</td>\n",
       "      <td>2015</td>\n",
       "      <td>5</td>\n",
       "      <td>2017</td>\n",
       "      <td>ALLROAD</td>\n",
       "      <td>автоматическая</td>\n",
       "      <td>2.0</td>\n",
       "      <td>50000</td>\n",
       "      <td>['[{\"name\":\"Безопасность\",\"values\":[\"Антипробу...</td>\n",
       "      <td>полный</td>\n",
       "      <td>Левый</td>\n",
       "      <td>1</td>\n",
       "      <td>2</td>\n",
       "      <td>211</td>\n",
       "      <td>3</td>\n",
       "      <td>2.0</td>\n",
       "    </tr>\n",
       "    <tr>\n",
       "      <th>1</th>\n",
       "      <td>INFINITI</td>\n",
       "      <td>чёрный</td>\n",
       "      <td>бензин</td>\n",
       "      <td>2014</td>\n",
       "      <td>4</td>\n",
       "      <td>2014</td>\n",
       "      <td>SEDAN</td>\n",
       "      <td>автоматическая</td>\n",
       "      <td>3.7</td>\n",
       "      <td>78000</td>\n",
       "      <td>[]</td>\n",
       "      <td>полный</td>\n",
       "      <td>Левый</td>\n",
       "      <td>2</td>\n",
       "      <td>2</td>\n",
       "      <td>333</td>\n",
       "      <td>3</td>\n",
       "      <td>3.7</td>\n",
       "    </tr>\n",
       "    <tr>\n",
       "      <th>2</th>\n",
       "      <td>NISSAN</td>\n",
       "      <td>белый</td>\n",
       "      <td>бензин</td>\n",
       "      <td>2009</td>\n",
       "      <td>5</td>\n",
       "      <td>2013</td>\n",
       "      <td>HATCHBACK</td>\n",
       "      <td>автоматическая</td>\n",
       "      <td>1.6</td>\n",
       "      <td>98000</td>\n",
       "      <td>['[{\"name\":\"Элементы экстерьера\",\"values\":[\"Ст...</td>\n",
       "      <td>передний</td>\n",
       "      <td>Левый</td>\n",
       "      <td>1</td>\n",
       "      <td>2</td>\n",
       "      <td>110</td>\n",
       "      <td>3</td>\n",
       "      <td>1.6</td>\n",
       "    </tr>\n",
       "    <tr>\n",
       "      <th>3</th>\n",
       "      <td>BMW</td>\n",
       "      <td>серый</td>\n",
       "      <td>дизель</td>\n",
       "      <td>2013</td>\n",
       "      <td>5</td>\n",
       "      <td>2016</td>\n",
       "      <td>ALLROAD</td>\n",
       "      <td>автоматическая</td>\n",
       "      <td>3.0</td>\n",
       "      <td>69000</td>\n",
       "      <td>['[{\"name\":\"Комфорт\",\"values\":[\"Круиз-контроль...</td>\n",
       "      <td>полный</td>\n",
       "      <td>Левый</td>\n",
       "      <td>3</td>\n",
       "      <td>2</td>\n",
       "      <td>381</td>\n",
       "      <td>3</td>\n",
       "      <td>3.0</td>\n",
       "    </tr>\n",
       "    <tr>\n",
       "      <th>4</th>\n",
       "      <td>MERCEDES</td>\n",
       "      <td>чёрный</td>\n",
       "      <td>бензин</td>\n",
       "      <td>2013</td>\n",
       "      <td>5</td>\n",
       "      <td>2015</td>\n",
       "      <td>ALLROAD</td>\n",
       "      <td>роботизированная</td>\n",
       "      <td>1.6</td>\n",
       "      <td>116473</td>\n",
       "      <td>['[{\"name\":\"Элементы экстерьера\",\"values\":[\"Ле...</td>\n",
       "      <td>передний</td>\n",
       "      <td>Левый</td>\n",
       "      <td>2</td>\n",
       "      <td>2</td>\n",
       "      <td>156</td>\n",
       "      <td>4</td>\n",
       "      <td>1.6</td>\n",
       "    </tr>\n",
       "    <tr>\n",
       "      <th>...</th>\n",
       "      <td>...</td>\n",
       "      <td>...</td>\n",
       "      <td>...</td>\n",
       "      <td>...</td>\n",
       "      <td>...</td>\n",
       "      <td>...</td>\n",
       "      <td>...</td>\n",
       "      <td>...</td>\n",
       "      <td>...</td>\n",
       "      <td>...</td>\n",
       "      <td>...</td>\n",
       "      <td>...</td>\n",
       "      <td>...</td>\n",
       "      <td>...</td>\n",
       "      <td>...</td>\n",
       "      <td>...</td>\n",
       "      <td>...</td>\n",
       "      <td>...</td>\n",
       "    </tr>\n",
       "    <tr>\n",
       "      <th>35985</th>\n",
       "      <td>NISSAN</td>\n",
       "      <td>серый</td>\n",
       "      <td>бензин</td>\n",
       "      <td>2007</td>\n",
       "      <td>5</td>\n",
       "      <td>2007</td>\n",
       "      <td>ALLROAD</td>\n",
       "      <td>вариатор</td>\n",
       "      <td>2.0</td>\n",
       "      <td>150000</td>\n",
       "      <td>['[{\"name\":\"Комфорт\",\"values\":[\"Круиз-контроль...</td>\n",
       "      <td>полный</td>\n",
       "      <td>Левый</td>\n",
       "      <td>3</td>\n",
       "      <td>2</td>\n",
       "      <td>140</td>\n",
       "      <td>2</td>\n",
       "      <td>2.0</td>\n",
       "    </tr>\n",
       "    <tr>\n",
       "      <th>35986</th>\n",
       "      <td>TOYOTA</td>\n",
       "      <td>белый</td>\n",
       "      <td>дизель</td>\n",
       "      <td>2012</td>\n",
       "      <td>5</td>\n",
       "      <td>2015</td>\n",
       "      <td>ALLROAD</td>\n",
       "      <td>автоматическая</td>\n",
       "      <td>4.5</td>\n",
       "      <td>98000</td>\n",
       "      <td>[]</td>\n",
       "      <td>полный</td>\n",
       "      <td>Левый</td>\n",
       "      <td>2</td>\n",
       "      <td>2</td>\n",
       "      <td>235</td>\n",
       "      <td>3</td>\n",
       "      <td>4.5</td>\n",
       "    </tr>\n",
       "    <tr>\n",
       "      <th>35987</th>\n",
       "      <td>VOLKSWAGEN</td>\n",
       "      <td>белый</td>\n",
       "      <td>бензин</td>\n",
       "      <td>2009</td>\n",
       "      <td>5</td>\n",
       "      <td>2013</td>\n",
       "      <td>HATCHBACK</td>\n",
       "      <td>роботизированная</td>\n",
       "      <td>1.6</td>\n",
       "      <td>140000</td>\n",
       "      <td>['[{\"name\":\"Безопасность\",\"values\":[\"Подушка б...</td>\n",
       "      <td>передний</td>\n",
       "      <td>Левый</td>\n",
       "      <td>1</td>\n",
       "      <td>2</td>\n",
       "      <td>102</td>\n",
       "      <td>4</td>\n",
       "      <td>1.6</td>\n",
       "    </tr>\n",
       "    <tr>\n",
       "      <th>35988</th>\n",
       "      <td>BMW</td>\n",
       "      <td>белый</td>\n",
       "      <td>дизель</td>\n",
       "      <td>2009</td>\n",
       "      <td>5</td>\n",
       "      <td>2012</td>\n",
       "      <td>ALLROAD</td>\n",
       "      <td>автоматическая</td>\n",
       "      <td>2.0</td>\n",
       "      <td>160000</td>\n",
       "      <td>['[{\"name\":\"Прочее\",\"values\":[\"Защита картера\"...</td>\n",
       "      <td>полный</td>\n",
       "      <td>Левый</td>\n",
       "      <td>2</td>\n",
       "      <td>2</td>\n",
       "      <td>184</td>\n",
       "      <td>3</td>\n",
       "      <td>2.0</td>\n",
       "    </tr>\n",
       "    <tr>\n",
       "      <th>35989</th>\n",
       "      <td>SKODA</td>\n",
       "      <td>серебристый</td>\n",
       "      <td>бензин</td>\n",
       "      <td>2010</td>\n",
       "      <td>5</td>\n",
       "      <td>2013</td>\n",
       "      <td>HATCHBACK</td>\n",
       "      <td>автоматическая</td>\n",
       "      <td>1.6</td>\n",
       "      <td>61800</td>\n",
       "      <td>['[{\"name\":\"Прочее\",\"values\":[\"Защита картера\"...</td>\n",
       "      <td>передний</td>\n",
       "      <td>Левый</td>\n",
       "      <td>2</td>\n",
       "      <td>2</td>\n",
       "      <td>105</td>\n",
       "      <td>3</td>\n",
       "      <td>1.6</td>\n",
       "    </tr>\n",
       "  </tbody>\n",
       "</table>\n",
       "<p>35973 rows × 18 columns</p>\n",
       "</div>"
      ],
      "text/plain": [
       "            brand        color fuelType  modelDate  numberOfDoors  \\\n",
       "0        MERCEDES        синий   бензин       2015              5   \n",
       "1        INFINITI       чёрный   бензин       2014              4   \n",
       "2          NISSAN        белый   бензин       2009              5   \n",
       "3             BMW        серый   дизель       2013              5   \n",
       "4        MERCEDES       чёрный   бензин       2013              5   \n",
       "...           ...          ...      ...        ...            ...   \n",
       "35985      NISSAN        серый   бензин       2007              5   \n",
       "35986      TOYOTA        белый   дизель       2012              5   \n",
       "35987  VOLKSWAGEN        белый   бензин       2009              5   \n",
       "35988         BMW        белый   дизель       2009              5   \n",
       "35989       SKODA  серебристый   бензин       2010              5   \n",
       "\n",
       "       productionDate vehicleConfiguration vehicleTransmission  \\\n",
       "0                2017              ALLROAD      автоматическая   \n",
       "1                2014                SEDAN      автоматическая   \n",
       "2                2013            HATCHBACK      автоматическая   \n",
       "3                2016              ALLROAD      автоматическая   \n",
       "4                2015              ALLROAD    роботизированная   \n",
       "...               ...                  ...                 ...   \n",
       "35985            2007              ALLROAD            вариатор   \n",
       "35986            2015              ALLROAD      автоматическая   \n",
       "35987            2013            HATCHBACK    роботизированная   \n",
       "35988            2012              ALLROAD      автоматическая   \n",
       "35989            2013            HATCHBACK      автоматическая   \n",
       "\n",
       "       engineDisplacement  mileage  \\\n",
       "0                     2.0    50000   \n",
       "1                     3.7    78000   \n",
       "2                     1.6    98000   \n",
       "3                     3.0    69000   \n",
       "4                     1.6   116473   \n",
       "...                   ...      ...   \n",
       "35985                 2.0   150000   \n",
       "35986                 4.5    98000   \n",
       "35987                 1.6   140000   \n",
       "35988                 2.0   160000   \n",
       "35989                 1.6    61800   \n",
       "\n",
       "                                            Комплектация    Привод   Руль  \\\n",
       "0      ['[{\"name\":\"Безопасность\",\"values\":[\"Антипробу...    полный  Левый   \n",
       "1                                                     []    полный  Левый   \n",
       "2      ['[{\"name\":\"Элементы экстерьера\",\"values\":[\"Ст...  передний  Левый   \n",
       "3      ['[{\"name\":\"Комфорт\",\"values\":[\"Круиз-контроль...    полный  Левый   \n",
       "4      ['[{\"name\":\"Элементы экстерьера\",\"values\":[\"Ле...  передний  Левый   \n",
       "...                                                  ...       ...    ...   \n",
       "35985  ['[{\"name\":\"Комфорт\",\"values\":[\"Круиз-контроль...    полный  Левый   \n",
       "35986                                                 []    полный  Левый   \n",
       "35987  ['[{\"name\":\"Безопасность\",\"values\":[\"Подушка б...  передний  Левый   \n",
       "35988  ['[{\"name\":\"Прочее\",\"values\":[\"Защита картера\"...    полный  Левый   \n",
       "35989  ['[{\"name\":\"Прочее\",\"values\":[\"Защита картера\"...  передний  Левый   \n",
       "\n",
       "      Владельцы  ПТС power  vTransmission  eDisplacement  \n",
       "0             1    2   211              3            2.0  \n",
       "1             2    2   333              3            3.7  \n",
       "2             1    2   110              3            1.6  \n",
       "3             3    2   381              3            3.0  \n",
       "4             2    2   156              4            1.6  \n",
       "...         ...  ...   ...            ...            ...  \n",
       "35985         3    2   140              2            2.0  \n",
       "35986         2    2   235              3            4.5  \n",
       "35987         1    2   102              4            1.6  \n",
       "35988         2    2   184              3            2.0  \n",
       "35989         2    2   105              3            1.6  \n",
       "\n",
       "[35973 rows x 18 columns]"
      ]
     },
     "execution_count": 269,
     "metadata": {},
     "output_type": "execute_result"
    }
   ],
   "source": [
    "df2"
   ]
  },
  {
   "cell_type": "code",
   "execution_count": 270,
   "metadata": {},
   "outputs": [],
   "source": [
    "df2 = df2.drop('eDisplacement',axis = 1)"
   ]
  },
  {
   "cell_type": "code",
   "execution_count": 271,
   "metadata": {},
   "outputs": [
    {
     "data": {
      "text/html": [
       "<div>\n",
       "<style scoped>\n",
       "    .dataframe tbody tr th:only-of-type {\n",
       "        vertical-align: middle;\n",
       "    }\n",
       "\n",
       "    .dataframe tbody tr th {\n",
       "        vertical-align: top;\n",
       "    }\n",
       "\n",
       "    .dataframe thead th {\n",
       "        text-align: right;\n",
       "    }\n",
       "</style>\n",
       "<table border=\"1\" class=\"dataframe\">\n",
       "  <thead>\n",
       "    <tr style=\"text-align: right;\">\n",
       "      <th></th>\n",
       "      <th>brand</th>\n",
       "      <th>color</th>\n",
       "      <th>fuelType</th>\n",
       "      <th>modelDate</th>\n",
       "      <th>numberOfDoors</th>\n",
       "      <th>productionDate</th>\n",
       "      <th>vehicleConfiguration</th>\n",
       "      <th>vehicleTransmission</th>\n",
       "      <th>engineDisplacement</th>\n",
       "      <th>mileage</th>\n",
       "      <th>Комплектация</th>\n",
       "      <th>Привод</th>\n",
       "      <th>Руль</th>\n",
       "      <th>Владельцы</th>\n",
       "      <th>ПТС</th>\n",
       "      <th>power</th>\n",
       "      <th>vTransmission</th>\n",
       "    </tr>\n",
       "  </thead>\n",
       "  <tbody>\n",
       "    <tr>\n",
       "      <th>0</th>\n",
       "      <td>MERCEDES</td>\n",
       "      <td>синий</td>\n",
       "      <td>бензин</td>\n",
       "      <td>2015</td>\n",
       "      <td>5</td>\n",
       "      <td>2017</td>\n",
       "      <td>ALLROAD</td>\n",
       "      <td>автоматическая</td>\n",
       "      <td>2.0</td>\n",
       "      <td>50000</td>\n",
       "      <td>['[{\"name\":\"Безопасность\",\"values\":[\"Антипробу...</td>\n",
       "      <td>полный</td>\n",
       "      <td>Левый</td>\n",
       "      <td>1</td>\n",
       "      <td>2</td>\n",
       "      <td>211</td>\n",
       "      <td>3</td>\n",
       "    </tr>\n",
       "    <tr>\n",
       "      <th>1</th>\n",
       "      <td>INFINITI</td>\n",
       "      <td>чёрный</td>\n",
       "      <td>бензин</td>\n",
       "      <td>2014</td>\n",
       "      <td>4</td>\n",
       "      <td>2014</td>\n",
       "      <td>SEDAN</td>\n",
       "      <td>автоматическая</td>\n",
       "      <td>3.7</td>\n",
       "      <td>78000</td>\n",
       "      <td>[]</td>\n",
       "      <td>полный</td>\n",
       "      <td>Левый</td>\n",
       "      <td>2</td>\n",
       "      <td>2</td>\n",
       "      <td>333</td>\n",
       "      <td>3</td>\n",
       "    </tr>\n",
       "    <tr>\n",
       "      <th>2</th>\n",
       "      <td>NISSAN</td>\n",
       "      <td>белый</td>\n",
       "      <td>бензин</td>\n",
       "      <td>2009</td>\n",
       "      <td>5</td>\n",
       "      <td>2013</td>\n",
       "      <td>HATCHBACK</td>\n",
       "      <td>автоматическая</td>\n",
       "      <td>1.6</td>\n",
       "      <td>98000</td>\n",
       "      <td>['[{\"name\":\"Элементы экстерьера\",\"values\":[\"Ст...</td>\n",
       "      <td>передний</td>\n",
       "      <td>Левый</td>\n",
       "      <td>1</td>\n",
       "      <td>2</td>\n",
       "      <td>110</td>\n",
       "      <td>3</td>\n",
       "    </tr>\n",
       "    <tr>\n",
       "      <th>3</th>\n",
       "      <td>BMW</td>\n",
       "      <td>серый</td>\n",
       "      <td>дизель</td>\n",
       "      <td>2013</td>\n",
       "      <td>5</td>\n",
       "      <td>2016</td>\n",
       "      <td>ALLROAD</td>\n",
       "      <td>автоматическая</td>\n",
       "      <td>3.0</td>\n",
       "      <td>69000</td>\n",
       "      <td>['[{\"name\":\"Комфорт\",\"values\":[\"Круиз-контроль...</td>\n",
       "      <td>полный</td>\n",
       "      <td>Левый</td>\n",
       "      <td>3</td>\n",
       "      <td>2</td>\n",
       "      <td>381</td>\n",
       "      <td>3</td>\n",
       "    </tr>\n",
       "    <tr>\n",
       "      <th>4</th>\n",
       "      <td>MERCEDES</td>\n",
       "      <td>чёрный</td>\n",
       "      <td>бензин</td>\n",
       "      <td>2013</td>\n",
       "      <td>5</td>\n",
       "      <td>2015</td>\n",
       "      <td>ALLROAD</td>\n",
       "      <td>роботизированная</td>\n",
       "      <td>1.6</td>\n",
       "      <td>116473</td>\n",
       "      <td>['[{\"name\":\"Элементы экстерьера\",\"values\":[\"Ле...</td>\n",
       "      <td>передний</td>\n",
       "      <td>Левый</td>\n",
       "      <td>2</td>\n",
       "      <td>2</td>\n",
       "      <td>156</td>\n",
       "      <td>4</td>\n",
       "    </tr>\n",
       "    <tr>\n",
       "      <th>...</th>\n",
       "      <td>...</td>\n",
       "      <td>...</td>\n",
       "      <td>...</td>\n",
       "      <td>...</td>\n",
       "      <td>...</td>\n",
       "      <td>...</td>\n",
       "      <td>...</td>\n",
       "      <td>...</td>\n",
       "      <td>...</td>\n",
       "      <td>...</td>\n",
       "      <td>...</td>\n",
       "      <td>...</td>\n",
       "      <td>...</td>\n",
       "      <td>...</td>\n",
       "      <td>...</td>\n",
       "      <td>...</td>\n",
       "      <td>...</td>\n",
       "    </tr>\n",
       "    <tr>\n",
       "      <th>35985</th>\n",
       "      <td>NISSAN</td>\n",
       "      <td>серый</td>\n",
       "      <td>бензин</td>\n",
       "      <td>2007</td>\n",
       "      <td>5</td>\n",
       "      <td>2007</td>\n",
       "      <td>ALLROAD</td>\n",
       "      <td>вариатор</td>\n",
       "      <td>2.0</td>\n",
       "      <td>150000</td>\n",
       "      <td>['[{\"name\":\"Комфорт\",\"values\":[\"Круиз-контроль...</td>\n",
       "      <td>полный</td>\n",
       "      <td>Левый</td>\n",
       "      <td>3</td>\n",
       "      <td>2</td>\n",
       "      <td>140</td>\n",
       "      <td>2</td>\n",
       "    </tr>\n",
       "    <tr>\n",
       "      <th>35986</th>\n",
       "      <td>TOYOTA</td>\n",
       "      <td>белый</td>\n",
       "      <td>дизель</td>\n",
       "      <td>2012</td>\n",
       "      <td>5</td>\n",
       "      <td>2015</td>\n",
       "      <td>ALLROAD</td>\n",
       "      <td>автоматическая</td>\n",
       "      <td>4.5</td>\n",
       "      <td>98000</td>\n",
       "      <td>[]</td>\n",
       "      <td>полный</td>\n",
       "      <td>Левый</td>\n",
       "      <td>2</td>\n",
       "      <td>2</td>\n",
       "      <td>235</td>\n",
       "      <td>3</td>\n",
       "    </tr>\n",
       "    <tr>\n",
       "      <th>35987</th>\n",
       "      <td>VOLKSWAGEN</td>\n",
       "      <td>белый</td>\n",
       "      <td>бензин</td>\n",
       "      <td>2009</td>\n",
       "      <td>5</td>\n",
       "      <td>2013</td>\n",
       "      <td>HATCHBACK</td>\n",
       "      <td>роботизированная</td>\n",
       "      <td>1.6</td>\n",
       "      <td>140000</td>\n",
       "      <td>['[{\"name\":\"Безопасность\",\"values\":[\"Подушка б...</td>\n",
       "      <td>передний</td>\n",
       "      <td>Левый</td>\n",
       "      <td>1</td>\n",
       "      <td>2</td>\n",
       "      <td>102</td>\n",
       "      <td>4</td>\n",
       "    </tr>\n",
       "    <tr>\n",
       "      <th>35988</th>\n",
       "      <td>BMW</td>\n",
       "      <td>белый</td>\n",
       "      <td>дизель</td>\n",
       "      <td>2009</td>\n",
       "      <td>5</td>\n",
       "      <td>2012</td>\n",
       "      <td>ALLROAD</td>\n",
       "      <td>автоматическая</td>\n",
       "      <td>2.0</td>\n",
       "      <td>160000</td>\n",
       "      <td>['[{\"name\":\"Прочее\",\"values\":[\"Защита картера\"...</td>\n",
       "      <td>полный</td>\n",
       "      <td>Левый</td>\n",
       "      <td>2</td>\n",
       "      <td>2</td>\n",
       "      <td>184</td>\n",
       "      <td>3</td>\n",
       "    </tr>\n",
       "    <tr>\n",
       "      <th>35989</th>\n",
       "      <td>SKODA</td>\n",
       "      <td>серебристый</td>\n",
       "      <td>бензин</td>\n",
       "      <td>2010</td>\n",
       "      <td>5</td>\n",
       "      <td>2013</td>\n",
       "      <td>HATCHBACK</td>\n",
       "      <td>автоматическая</td>\n",
       "      <td>1.6</td>\n",
       "      <td>61800</td>\n",
       "      <td>['[{\"name\":\"Прочее\",\"values\":[\"Защита картера\"...</td>\n",
       "      <td>передний</td>\n",
       "      <td>Левый</td>\n",
       "      <td>2</td>\n",
       "      <td>2</td>\n",
       "      <td>105</td>\n",
       "      <td>3</td>\n",
       "    </tr>\n",
       "  </tbody>\n",
       "</table>\n",
       "<p>35973 rows × 17 columns</p>\n",
       "</div>"
      ],
      "text/plain": [
       "            brand        color fuelType  modelDate  numberOfDoors  \\\n",
       "0        MERCEDES        синий   бензин       2015              5   \n",
       "1        INFINITI       чёрный   бензин       2014              4   \n",
       "2          NISSAN        белый   бензин       2009              5   \n",
       "3             BMW        серый   дизель       2013              5   \n",
       "4        MERCEDES       чёрный   бензин       2013              5   \n",
       "...           ...          ...      ...        ...            ...   \n",
       "35985      NISSAN        серый   бензин       2007              5   \n",
       "35986      TOYOTA        белый   дизель       2012              5   \n",
       "35987  VOLKSWAGEN        белый   бензин       2009              5   \n",
       "35988         BMW        белый   дизель       2009              5   \n",
       "35989       SKODA  серебристый   бензин       2010              5   \n",
       "\n",
       "       productionDate vehicleConfiguration vehicleTransmission  \\\n",
       "0                2017              ALLROAD      автоматическая   \n",
       "1                2014                SEDAN      автоматическая   \n",
       "2                2013            HATCHBACK      автоматическая   \n",
       "3                2016              ALLROAD      автоматическая   \n",
       "4                2015              ALLROAD    роботизированная   \n",
       "...               ...                  ...                 ...   \n",
       "35985            2007              ALLROAD            вариатор   \n",
       "35986            2015              ALLROAD      автоматическая   \n",
       "35987            2013            HATCHBACK    роботизированная   \n",
       "35988            2012              ALLROAD      автоматическая   \n",
       "35989            2013            HATCHBACK      автоматическая   \n",
       "\n",
       "       engineDisplacement  mileage  \\\n",
       "0                     2.0    50000   \n",
       "1                     3.7    78000   \n",
       "2                     1.6    98000   \n",
       "3                     3.0    69000   \n",
       "4                     1.6   116473   \n",
       "...                   ...      ...   \n",
       "35985                 2.0   150000   \n",
       "35986                 4.5    98000   \n",
       "35987                 1.6   140000   \n",
       "35988                 2.0   160000   \n",
       "35989                 1.6    61800   \n",
       "\n",
       "                                            Комплектация    Привод   Руль  \\\n",
       "0      ['[{\"name\":\"Безопасность\",\"values\":[\"Антипробу...    полный  Левый   \n",
       "1                                                     []    полный  Левый   \n",
       "2      ['[{\"name\":\"Элементы экстерьера\",\"values\":[\"Ст...  передний  Левый   \n",
       "3      ['[{\"name\":\"Комфорт\",\"values\":[\"Круиз-контроль...    полный  Левый   \n",
       "4      ['[{\"name\":\"Элементы экстерьера\",\"values\":[\"Ле...  передний  Левый   \n",
       "...                                                  ...       ...    ...   \n",
       "35985  ['[{\"name\":\"Комфорт\",\"values\":[\"Круиз-контроль...    полный  Левый   \n",
       "35986                                                 []    полный  Левый   \n",
       "35987  ['[{\"name\":\"Безопасность\",\"values\":[\"Подушка б...  передний  Левый   \n",
       "35988  ['[{\"name\":\"Прочее\",\"values\":[\"Защита картера\"...    полный  Левый   \n",
       "35989  ['[{\"name\":\"Прочее\",\"values\":[\"Защита картера\"...  передний  Левый   \n",
       "\n",
       "      Владельцы  ПТС power  vTransmission  \n",
       "0             1    2   211              3  \n",
       "1             2    2   333              3  \n",
       "2             1    2   110              3  \n",
       "3             3    2   381              3  \n",
       "4             2    2   156              4  \n",
       "...         ...  ...   ...            ...  \n",
       "35985         3    2   140              2  \n",
       "35986         2    2   235              3  \n",
       "35987         1    2   102              4  \n",
       "35988         2    2   184              3  \n",
       "35989         2    2   105              3  \n",
       "\n",
       "[35973 rows x 17 columns]"
      ]
     },
     "execution_count": 271,
     "metadata": {},
     "output_type": "execute_result"
    }
   ],
   "source": [
    "df2"
   ]
  },
  {
   "cell_type": "code",
   "execution_count": 292,
   "metadata": {},
   "outputs": [
    {
     "data": {
      "text/plain": [
       "[]                                                                                                                                                                                                                                                                                                                                                                                                                                                                                                                                                                                                                                                                                                                                                                                                                                                                                                                                                                                                                                                                                                                                                                                                                                                                                                                                                                                                                                                                                                                                                                                                                                                                                                                                                                                                                                                                                                                                                                                                                                                                                                                                                                                                                                                                                                                                                                                                                                                                                                                                                                                                                                                                                                                        7472\n",
       "['[{\"name\":\"Комфорт\",\"values\":[\"Круиз-контроль\",\"Электростеклоподъёмники передние\",\"Бортовой компьютер\",\"Усилитель руля\",\"Электропривод зеркал\",\"Электростеклоподъёмники задние\",\"Регулировка руля по вылету\",\"Регулировка руля по высоте\",\"Климат-контроль 1-зонный\"]},{\"name\":\"Безопасность\",\"values\":[\"Система стабилизации (ESP)\",\"Подушка безопасности водителя\",\"Подушка безопасности пассажира\",\"Подушки безопасности боковые\",\"Антиблокировочная система (ABS)\"]},{\"name\":\"Обзор\",\"values\":[\"Ксеноновые/Биксеноновые фары\",\"Противотуманные фары\",\"Электрообогрев боковых зеркал\"]},{\"name\":\"Салон\",\"values\":[\"Складывающееся заднее сиденье\",\"Электрорегулировка передних сидений\",\"Люк\",\"Кожа (Материал салона)\",\"Подогрев передних сидений\"]},{\"name\":\"Защита от угона\",\"values\":[\"Сигнализация\",\"Центральный замок\",\"Иммобилайзер\"]},{\"name\":\"Элементы экстерьера\",\"values\":[\"Металлик\"]},{\"name\":\"Мультимедиа\",\"values\":[\"Аудиосистема Hi-Fi\"]}]']                                                                                                                                                                                                                                                                                                                                                                                                                                                                                                                                                                                                                                                                                                                                                                                                                                                                                                                                                                                                                                                                                                                                                                                                                                                                                                                                                                                                                                                                                                                                                                                                                                                                                                                                                             60\n",
       "['[{\"name\":\"Прочее\",\"values\":[\"Газобаллонное оборудование\"]}]']                                                                                                                                                                                                                                                                                                                                                                                                                                                                                                                                                                                                                                                                                                                                                                                                                                                                                                                                                                                                                                                                                                                                                                                                                                                                                                                                                                                                                                                                                                                                                                                                                                                                                                                                                                                                                                                                                                                                                                                                                                                                                                                                                                                                                                                                                                                                                                                                                                                                                                                                                                                                                                                             60\n",
       "['[{\"name\":\"Комфорт\",\"values\":[\"Круиз-контроль\",\"Электростеклоподъёмники передние\",\"Мультифункциональное рулевое колесо\",\"Бортовой компьютер\",\"Усилитель руля\",\"Электропривод зеркал\",\"Электростеклоподъёмники задние\",\"Охлаждаемый перчаточный ящик\",\"Регулировка руля по вылету\",\"Регулировка руля по высоте\",\"Климат-контроль 1-зонный\",\"Парктроник задний\"]},{\"name\":\"Безопасность\",\"values\":[\"Система стабилизации (ESP)\",\"Подушка безопасности водителя\",\"Крепление детского кресла (задний ряд) ISOFIX\",\"Система помощи при старте в гору (HSA)\",\"Подушка безопасности пассажира\",\"Подушки безопасности боковые\",\"Антиблокировочная система (ABS)\"]},{\"name\":\"Мультимедиа\",\"values\":[\"AUX\",\"Аудиосистема Hi-Fi\"]},{\"name\":\"Обзор\",\"values\":[\"Датчик света\",\"Противотуманные фары\",\"Датчик дождя\",\"Электрообогрев боковых зеркал\"]},{\"name\":\"Салон\",\"values\":[\"Складывающееся заднее сиденье\",\"Ткань (Материал салона)\",\"Подогрев передних сидений\",\"Отделка кожей рулевого колеса\"]},{\"name\":\"Защита от угона\",\"values\":[\"Сигнализация\",\"Центральный замок\",\"Иммобилайзер\"]}]']                                                                                                                                                                                                                                                                                                                                                                                                                                                                                                                                                                                                                                                                                                                                                                                                                                                                                                                                                                                                                                                                                                                                                                                                                                                                                                                                                                                                                                                                                                                                                                                                                                      29\n",
       "['[{\"name\":\"Комфорт\",\"values\":[\"Круиз-контроль\",\"Система «старт-стоп»\",\"Электростеклоподъёмники передние\",\"Мультифункциональное рулевое колесо\",\"Прикуриватель и пепельница\",\"Бортовой компьютер\",\"Активный усилитель руля\",\"Электропривод зеркал\",\"Электростеклоподъёмники задние\",\"Запуск двигателя с кнопки\",\"Парктроник передний\",\"Регулировка руля по вылету\",\"Регулировка руля по высоте\",\"Климат-контроль 1-зонный\",\"Парктроник задний\"]},{\"name\":\"Безопасность\",\"values\":[\"Система стабилизации (ESP)\",\"Подушка безопасности водителя\",\"Крепление детского кресла (задний ряд) ISOFIX\",\"Система помощи при старте в гору (HSA)\",\"Подушки безопасности оконные (шторки)\",\"Подушка безопасности пассажира\",\"Подушки безопасности боковые\",\"Антиблокировочная система (ABS)\"]},{\"name\":\"Мультимедиа\",\"values\":[\"USB\",\"Аудиосистема\",\"Bluetooth\",\"Розетка 12V\"]},{\"name\":\"Обзор\",\"values\":[\"Датчик света\",\"Ксеноновые/Биксеноновые фары\",\"Автоматический корректор фар\",\"Омыватель фар\",\"Противотуманные фары\",\"Датчик дождя\",\"Электрообогрев боковых зеркал\"]},{\"name\":\"Салон\",\"values\":[\"Передний центральный подлокотник\",\"Электрорегулировка передних сидений\",\"Накладки на пороги\",\"Ткань (Материал салона)\",\"Обогрев рулевого колеса\",\"Подогрев передних сидений\",\"Отделка кожей рулевого колеса\",\"Третий задний подголовник\"]},{\"name\":\"Защита от угона\",\"values\":[\"Центральный замок\",\"Иммобилайзер\"]},{\"name\":\"Элементы экстерьера\",\"values\":[\"Диски 17\"]}]']                                                                                                                                                                                                                                                                                                                                                                                                                                                                                                                                                                                                                                                                                                                                                                                                                                                                                                                                                                                                                                                                                                                                                                                                                                                  20\n",
       "                                                                                                                                                                                                                                                                                                                                                                                                                                                                                                                                                                                                                                                                                                                                                                                                                                                                                                                                                                                                                                                                                                                                                                                                                                                                                                                                                                                                                                                                                                                                                                                                                                                                                                                                                                                                                                                                                                                                                                                                                                                                                                                                                                                                                                                                                                                                                                                                                                                                                                                                                                                                                                                                                                                          ... \n",
       "['[{\"name\":\"Комфорт\",\"values\":[\"Круиз-контроль\",\"Электрорегулировка руля\",\"Мультифункциональное рулевое колесо\",\"Электропривод зеркал\",\"Электростеклоподъёмники задние\",\"Климат-контроль многозонный\",\"Парктроник задний\",\"Электростеклоподъёмники передние\",\"Бортовой компьютер\",\"Усилитель руля\",\"Запуск двигателя с кнопки\",\"Электропривод крышки багажника\"]},{\"name\":\"Безопасность\",\"values\":[\"Антипробуксовочная система (ASR)\",\"Система стабилизации (ESP)\",\"Подушка безопасности пассажира\",\"Подушка безопасности водителя\",\"Крепление детского кресла (задний ряд) ISOFIX\",\"Подушки безопасности оконные (шторки)\",\"Система предотвращения столкновения\",\"Подушки безопасности боковые задние\",\"Подушки безопасности боковые\",\"Антиблокировочная система (ABS)\",\"Блокировка замков задних дверей\"]},{\"name\":\"Салон\",\"values\":[\"Тонированные стекла\",\"Передний центральный подлокотник\",\"Кожа (Материал салона)\",\"Обогрев рулевого колеса\",\"Память сиденья водителя\",\"Регулировка передних сидений по высоте\",\"Электрорегулировка передних сидений\",\"Отделка кожей рычага КПП\",\"Подогрев передних сидений\",\"Отделка кожей рулевого колеса\"]},{\"name\":\"Мультимедиа\",\"values\":[\"USB\",\"Навигационная система\",\"AUX\",\"Мультимедиа система для задних пассажиров\",\"Аудиосистема\",\"Розетка 12V\"]},{\"name\":\"Обзор\",\"values\":[\"Ксеноновые/Биксеноновые фары\",\"Датчик света\",\"Автоматический корректор фар\",\"Омыватель фар\",\"Противотуманные фары\",\"Датчик дождя\"]},{\"name\":\"Защита от угона\",\"values\":[\"Центральный замок\",\"Датчик проникновения в салон (датчик объема)\",\"Иммобилайзер\"]},{\"name\":\"Прочее\",\"values\":[\"Защита картера\"]},{\"name\":\"Элементы экстерьера\",\"values\":[\"Легкосплавные диски\"]}]']                                                                                                                                                                                                                                                                                                                                                                                                                                                                                                                                                                                                                                                                                                                                                                                                                                                                                                                                                                                                                  1\n",
       "['[{\"name\":\"Безопасность\",\"values\":[\"Антипробуксовочная система (ASR)\",\"Система стабилизации (ESP)\",\"Система контроля за полосой движения\",\"Подушка безопасности пассажира\",\"Система помощи при торможении (BAS, EBD)\",\"ЭРА-ГЛОНАСС\",\"Подушка безопасности водителя\",\"Крепление детского кресла (задний ряд) ISOFIX\",\"Датчик усталости водителя\",\"Подушки безопасности оконные (шторки)\",\"Система предотвращения столкновения\",\"Подушки безопасности боковые задние\",\"Система контроля слепых зон\",\"Система распознавания дорожных знаков\",\"Подушки безопасности боковые\",\"Датчик давления в шинах\",\"Система ночного видения\",\"Антиблокировочная система (ABS)\",\"Блокировка замков задних дверей\"]},{\"name\":\"Салон\",\"values\":[\"Тонированные стекла\",\"Солнцезащитная шторка на заднем стекле\",\"Декоративная подсветка салона\",\"Накладки на пороги\",\"Подогрев задних сидений\",\"Память передних сидений\",\"Кожа (Материал салона)\",\"Обогрев рулевого колеса\",\"Сиденья с массажем\",\"Декоративные накладки на педали\",\"Электрорегулировка задних сидений\",\"Солнцезащитные шторки в задних дверях\",\"Регулировка передних сидений по высоте\",\"Электрорегулировка передних сидений\",\"Количество мест: 4\",\"Панорамная крыша / лобовое стекло\",\"Подогрев передних сидений\",\"Отделка кожей рулевого колеса\",\"Светлый салон\"]},{\"name\":\"Обзор\",\"values\":[\"Система адаптивного освещения\",\"Электрообогрев боковых зеркал\",\"Светодиодные фары\",\"Датчик света\",\"Автоматический корректор фар\",\"Система управления дальним светом\",\"Датчик дождя\"]},{\"name\":\"Мультимедиа\",\"values\":[\"USB\",\"Аудиосистема с TV\",\"Навигационная система\",\"Беспроводная зарядка для смартфона\",\"AUX\",\"Мультимедиа система для задних пассажиров\",\"Голосовое управление\",\"Bluetooth\",\"Розетка 12V\"]},{\"name\":\"Комфорт\",\"values\":[\"Электрорегулировка руля\",\"Мультифункциональное рулевое колесо\",\"Система автоматической парковки\",\"Рулевая колонка с памятью положения\",\"Активный усилитель руля\",\"Электропривод зеркал\",\"Подрулевые лепестки переключения передач\",\"Электростеклоподъёмники задние\",\"Открытие багажника без помощи рук\",\"Климат-контроль многозонный\",\"Доводчик дверей\",\"Система «старт-стоп»\",\"Электростеклоподъёмники передние\",\"Проекционный дисплей\",\"Бортовой компьютер\",\"Система доступа без ключа\",\"Запуск двигателя с кнопки\",\"Электронная приборная панель\",\"Электропривод крышки багажника\",\"Адаптивный круиз-контроль\",\"Электроскладывание зеркал\",\"Камера 360°\"]},{\"name\":\"Защита от угона\",\"values\":[\"Центральный замок\",\"Датчик проникновения в салон (датчик объема)\",\"Иммобилайзер\"]},{\"name\":\"Прочее\",\"values\":[\"Пневмоподвеска\",\"Активная подвеска\"]},{\"name\":\"Элементы экстерьера\",\"values\":[\"Легкосплавные диски\"]}]']       1\n",
       "['[{\"name\":\"Прочее\",\"values\":[\"Защита картера\"]},{\"name\":\"Безопасность\",\"values\":[\"Антипробуксовочная система (ASR)\",\"Система стабилизации (ESP)\",\"Подушка безопасности водителя\",\"Подушки безопасности оконные (шторки)\",\"Подушка безопасности пассажира\",\"Подушки безопасности боковые задние\",\"Подушки безопасности боковые\",\"Антиблокировочная система (ABS)\"]},{\"name\":\"Салон\",\"values\":[\"Тонированные стекла\",\"Передний центральный подлокотник\",\"Складывающееся заднее сиденье\",\"Электрорегулировка сиденья водителя\",\"Ткань (Материал салона)\",\"Отделка кожей рычага КПП\",\"Количество мест: 5\",\"Регулировка сиденья водителя по высоте\",\"Подогрев передних сидений\",\"Отделка кожей рулевого колеса\"]},{\"name\":\"Мультимедиа\",\"values\":[\"AUX\",\"USB\",\"Bluetooth\",\"Аудиосистема Hi-Fi\",\"Розетка 12V\"]},{\"name\":\"Комфорт\",\"values\":[\"Электростеклоподъёмники передние\",\"Бортовой компьютер\",\"Активный усилитель руля\",\"Электропривод зеркал\",\"Электростеклоподъёмники задние\",\"Регулировка руля по вылету\",\"Регулировка руля по высоте\",\"Климат-контроль 2-зонный\",\"Электроскладывание зеркал\",\"Парктроник задний\"]},{\"name\":\"Обзор\",\"values\":[\"Ксеноновые/Биксеноновые фары\",\"Омыватель фар\",\"Противотуманные фары\",\"Электрообогрев боковых зеркал\"]},{\"name\":\"Элементы экстерьера\",\"values\":[\"Рейлинги на крыше\",\"Стальные диски\",\"Диски 18\"]},{\"name\":\"Защита от угона\",\"values\":[\"Центральный замок\",\"Иммобилайзер\"]}]']                                                                                                                                                                                                                                                                                                                                                                                                                                                                                                                                                                                                                                                                                                                                                                                                                                                                                                                                                                                                                                                                                                                                                                                                                                                                                              1\n",
       "['[{\"name\":\"Салон\",\"values\":[\"Тонированные стекла\",\"Передний центральный подлокотник\",\"Складывающееся заднее сиденье\",\"Ткань (Материал салона)\",\"Отделка кожей рычага КПП\",\"Обогрев рулевого колеса\",\"Подогрев передних сидений\",\"Отделка кожей рулевого колеса\",\"Третий задний подголовник\"]},{\"name\":\"Безопасность\",\"values\":[\"Система стабилизации (ESP)\",\"Подушка безопасности водителя\",\"Крепление детского кресла (задний ряд) ISOFIX\",\"Система помощи при старте в гору (HSA)\",\"Подушки безопасности оконные (шторки)\",\"Подушка безопасности пассажира\",\"Подушки безопасности боковые\",\"Антиблокировочная система (ABS)\"]},{\"name\":\"Комфорт\",\"values\":[\"Система «старт-стоп»\",\"Электростеклоподъёмники передние\",\"Мультифункциональное рулевое колесо\",\"Прикуриватель и пепельница\",\"Бортовой компьютер\",\"Усилитель руля\",\"Электропривод зеркал\",\"Электростеклоподъёмники задние\",\"Запуск двигателя с кнопки\",\"Парктроник передний\",\"Регулировка руля по вылету\",\"Регулировка руля по высоте\",\"Климат-контроль 1-зонный\",\"Парктроник задний\"]},{\"name\":\"Мультимедиа\",\"values\":[\"AUX\",\"USB\",\"Аудиосистема\",\"Bluetooth\",\"Розетка 12V\"]},{\"name\":\"Обзор\",\"values\":[\"Ксеноновые/Биксеноновые фары\",\"Автоматический корректор фар\",\"Омыватель фар\",\"Противотуманные фары\",\"Электрообогрев боковых зеркал\"]},{\"name\":\"Элементы экстерьера\",\"values\":[\"Рейлинги на крыше\",\"Диски 17\"]},{\"name\":\"Защита от угона\",\"values\":[\"Центральный замок\",\"Иммобилайзер\"]}]']                                                                                                                                                                                                                                                                                                                                                                                                                                                                                                                                                                                                                                                                                                                                                                                                                                                                                                                                                                                                                                                                                                                                                                                                                                                           1\n",
       "['[{\"name\":\"Комфорт\",\"values\":[\"Круиз-контроль\",\"Система «старт-стоп»\",\"Бортовой компьютер\",\"Система доступа без ключа\",\"Усилитель руля\",\"Камера задняя\",\"Электропривод зеркал\",\"Электростеклоподъёмники задние\",\"Климат-контроль 2-зонный\",\"Парктроник задний\"]},{\"name\":\"Безопасность\",\"values\":[\"Антипробуксовочная система (ASR)\",\"Система стабилизации (ESP)\",\"Подушки безопасности боковые\",\"Антиблокировочная система (ABS)\"]},{\"name\":\"Салон\",\"values\":[\"Тонированные стекла\",\"Электрорегулировка передних сидений\",\"Люк\",\"Тёмный салон\",\"Кожа (Материал салона)\",\"Память сиденья водителя\"]},{\"name\":\"Обзор\",\"values\":[\"Датчик света\",\"Ксеноновые/Биксеноновые фары\",\"Омыватель фар\",\"Датчик дождя\",\"Электрообогрев боковых зеркал\"]},{\"name\":\"Мультимедиа\",\"values\":[\"Навигационная система\",\"Аудиосистема\"]},{\"name\":\"Защита от угона\",\"values\":[\"Центральный замок\"]},{\"name\":\"Элементы экстерьера\",\"values\":[\"Легкосплавные диски\"]}]']                                                                                                                                                                                                                                                                                                                                                                                                                                                                                                                                                                                                                                                                                                                                                                                                                                                                                                                                                                                                                                                                                                                                                                                                                                                                                                                                                                                                                                                                                                                                                                                                                                                                                                                                                                         1\n",
       "Name: Комплектация, Length: 26793, dtype: int64"
      ]
     },
     "execution_count": 292,
     "metadata": {},
     "output_type": "execute_result"
    }
   ],
   "source": [
    "df2['Комплектация'].value_counts()"
   ]
  },
  {
   "cell_type": "code",
   "execution_count": 279,
   "metadata": {},
   "outputs": [],
   "source": [
    "y = df2['Комплектация'].loc[5]"
   ]
  },
  {
   "cell_type": "code",
   "execution_count": 277,
   "metadata": {},
   "outputs": [
    {
     "data": {
      "text/plain": [
       "str"
      ]
     },
     "execution_count": 277,
     "metadata": {},
     "output_type": "execute_result"
    }
   ],
   "source": [
    "type(y)"
   ]
  },
  {
   "cell_type": "code",
   "execution_count": 280,
   "metadata": {},
   "outputs": [
    {
     "data": {
      "text/plain": [
       "'[\\'[{\"name\":\"Прочее\",\"values\":[\"Защита картера\"]},{\"name\":\"Безопасность\",\"values\":[\"Система стабилизации (ESP)\",\"Подушка безопасности водителя\",\"Крепление детского кресла (задний ряд) ISOFIX\",\"Система помощи при старте в гору (HSA)\",\"Подушка безопасности пассажира\",\"Антиблокировочная система (ABS)\"]},{\"name\":\"Мультимедиа\",\"values\":[\"AUX\",\"USB\",\"Аудиосистема\",\"Bluetooth\",\"Розетка 12V\"]},{\"name\":\"Комфорт\",\"values\":[\"Электростеклоподъёмники передние\",\"Мультифункциональное рулевое колесо\",\"Прикуриватель и пепельница\",\"Бортовой компьютер\",\"Камера задняя\",\"Активный усилитель руля\",\"Электропривод зеркал\",\"Электростеклоподъёмники задние\",\"Охлаждаемый перчаточный ящик\",\"Регулировка руля по вылету\",\"Регулировка руля по высоте\",\"Климат-контроль 2-зонный\"]},{\"name\":\"Обзор\",\"values\":[\"Электрообогрев форсунок стеклоомывателей\",\"Омыватель фар\",\"Противотуманные фары\",\"Датчик дождя\",\"Электрообогрев боковых зеркал\"]},{\"name\":\"Салон\",\"values\":[\"Передний центральный подлокотник\",\"Складывающееся заднее сиденье\",\"Ткань (Материал салона)\",\"Отделка кожей рычага КПП\",\"Подогрев передних сидений\",\"Отделка кожей рулевого колеса\",\"Декоративные накладки на педали\",\"Третий задний подголовник\"]},{\"name\":\"Защита от угона\",\"values\":[\"Центральный замок\",\"Иммобилайзер\"]},{\"name\":\"Элементы экстерьера\",\"values\":[\"Диски 16\"]}]\\']'"
      ]
     },
     "execution_count": 280,
     "metadata": {},
     "output_type": "execute_result"
    }
   ],
   "source": [
    "y"
   ]
  },
  {
   "cell_type": "code",
   "execution_count": 282,
   "metadata": {},
   "outputs": [
    {
     "data": {
      "text/plain": [
       "'{\"name\":\"Прочее\",\"values\":[\"Защита картера\"]},{\"name\":\"Безопасность\",\"values\":[\"Система стабилизации (ESP)\",\"Подушка безопасности водителя\",\"Крепление детского кресла (задний ряд) ISOFIX\",\"Система помощи при старте в гору (HSA)\",\"Подушка безопасности пассажира\",\"Антиблокировочная система (ABS)\"]},{\"name\":\"Мультимедиа\",\"values\":[\"AUX\",\"USB\",\"Аудиосистема\",\"Bluetooth\",\"Розетка 12V\"]},{\"name\":\"Комфорт\",\"values\":[\"Электростеклоподъёмники передние\",\"Мультифункциональное рулевое колесо\",\"Прикуриватель и пепельница\",\"Бортовой компьютер\",\"Камера задняя\",\"Активный усилитель руля\",\"Электропривод зеркал\",\"Электростеклоподъёмники задние\",\"Охлаждаемый перчаточный ящик\",\"Регулировка руля по вылету\",\"Регулировка руля по высоте\",\"Климат-контроль 2-зонный\"]},{\"name\":\"Обзор\",\"values\":[\"Электрообогрев форсунок стеклоомывателей\",\"Омыватель фар\",\"Противотуманные фары\",\"Датчик дождя\",\"Электрообогрев боковых зеркал\"]},{\"name\":\"Салон\",\"values\":[\"Передний центральный подлокотник\",\"Складывающееся заднее сиденье\",\"Ткань (Материал салона)\",\"Отделка кожей рычага КПП\",\"Подогрев передних сидений\",\"Отделка кожей рулевого колеса\",\"Декоративные накладки на педали\",\"Третий задний подголовник\"]},{\"name\":\"Защита от угона\",\"values\":[\"Центральный замок\",\"Иммобилайзер\"]},{\"name\":\"Элементы экстерьера\",\"values\":[\"Диски 16\"]}'"
      ]
     },
     "execution_count": 282,
     "metadata": {},
     "output_type": "execute_result"
    }
   ],
   "source": [
    "y[3:-3]"
   ]
  },
  {
   "cell_type": "code",
   "execution_count": 283,
   "metadata": {},
   "outputs": [],
   "source": [
    "dict2 = eval(y[3:-3])"
   ]
  },
  {
   "cell_type": "code",
   "execution_count": 284,
   "metadata": {},
   "outputs": [
    {
     "data": {
      "text/plain": [
       "({'name': 'Прочее', 'values': ['Защита картера']},\n",
       " {'name': 'Безопасность',\n",
       "  'values': ['Система стабилизации (ESP)',\n",
       "   'Подушка безопасности водителя',\n",
       "   'Крепление детского кресла (задний ряд) ISOFIX',\n",
       "   'Система помощи при старте в гору (HSA)',\n",
       "   'Подушка безопасности пассажира',\n",
       "   'Антиблокировочная система (ABS)']},\n",
       " {'name': 'Мультимедиа',\n",
       "  'values': ['AUX', 'USB', 'Аудиосистема', 'Bluetooth', 'Розетка 12V']},\n",
       " {'name': 'Комфорт',\n",
       "  'values': ['Электростеклоподъёмники передние',\n",
       "   'Мультифункциональное рулевое колесо',\n",
       "   'Прикуриватель и пепельница',\n",
       "   'Бортовой компьютер',\n",
       "   'Камера задняя',\n",
       "   'Активный усилитель руля',\n",
       "   'Электропривод зеркал',\n",
       "   'Электростеклоподъёмники задние',\n",
       "   'Охлаждаемый перчаточный ящик',\n",
       "   'Регулировка руля по вылету',\n",
       "   'Регулировка руля по высоте',\n",
       "   'Климат-контроль 2-зонный']},\n",
       " {'name': 'Обзор',\n",
       "  'values': ['Электрообогрев форсунок стеклоомывателей',\n",
       "   'Омыватель фар',\n",
       "   'Противотуманные фары',\n",
       "   'Датчик дождя',\n",
       "   'Электрообогрев боковых зеркал']},\n",
       " {'name': 'Салон',\n",
       "  'values': ['Передний центральный подлокотник',\n",
       "   'Складывающееся заднее сиденье',\n",
       "   'Ткань (Материал салона)',\n",
       "   'Отделка кожей рычага КПП',\n",
       "   'Подогрев передних сидений',\n",
       "   'Отделка кожей рулевого колеса',\n",
       "   'Декоративные накладки на педали',\n",
       "   'Третий задний подголовник']},\n",
       " {'name': 'Защита от угона', 'values': ['Центральный замок', 'Иммобилайзер']},\n",
       " {'name': 'Элементы экстерьера', 'values': ['Диски 16']})"
      ]
     },
     "execution_count": 284,
     "metadata": {},
     "output_type": "execute_result"
    }
   ],
   "source": [
    "dict2"
   ]
  },
  {
   "cell_type": "code",
   "execution_count": null,
   "metadata": {},
   "outputs": [],
   "source": []
  }
 ],
 "metadata": {
  "kernelspec": {
   "display_name": "Python 3",
   "language": "python",
   "name": "python3"
  },
  "language_info": {
   "codemirror_mode": {
    "name": "ipython",
    "version": 3
   },
   "file_extension": ".py",
   "mimetype": "text/x-python",
   "name": "python",
   "nbconvert_exporter": "python",
   "pygments_lexer": "ipython3",
   "version": "3.8.3rc1"
  }
 },
 "nbformat": 4,
 "nbformat_minor": 2
}